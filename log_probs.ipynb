{
  "nbformat": 4,
  "nbformat_minor": 0,
  "metadata": {
    "colab": {
      "provenance": [],
      "authorship_tag": "ABX9TyN9JuBhQWS5S5W8lSEZzy5Y"
    },
    "kernelspec": {
      "name": "python3",
      "display_name": "Python 3"
    },
    "language_info": {
      "name": "python"
    }
  },
  "cells": [
    {
      "cell_type": "markdown",
      "source": [
        "# Logprobs Tree Visualizer\n",
        "\n",
        "### The code in this notebook is broken into 3 sections\n",
        "1. Initial exploration of the logprobs object in OpenAI\n",
        "2. Defining a TreeNode class and helper functions which are used to build a tree of sequential logprobs in a series of tokens.\n",
        "3. Setting up code to build a one off visualization of this tree\n",
        "4. Wrapping the code from step (3) in a function which can produce visualizations of logprobs trees for an arbitrary input token\n",
        "\n",
        "### Note on section dependency\n",
        "Section (3) is dependent on section (2). However you can skip right to section (4) \"Build log probs tree for a given starting token or prompt\" to start generating visualizations."
      ],
      "metadata": {
        "id": "QGtO6M5Kuy8x"
      }
    },
    {
      "cell_type": "markdown",
      "source": [
        "### Setup"
      ],
      "metadata": {
        "id": "D-q8fDV9uvHv"
      }
    },
    {
      "cell_type": "code",
      "execution_count": null,
      "metadata": {
        "id": "mZIhFLXVZrOu"
      },
      "outputs": [],
      "source": [
        "!pip install openai\n",
        "!pip install igraph\n",
        "import os\n",
        "import numpy as np\n",
        "import igraph as ig\n",
        "import plotly.graph_objects as go"
      ]
    },
    {
      "cell_type": "code",
      "source": [
        "from openai import OpenAI\n",
        "os.environ[\"OPENAI_API_KEY\"] = \"YOUR_API_KEY\"\n",
        "client = OpenAI()"
      ],
      "metadata": {
        "id": "78Ri4TILZ1Ec"
      },
      "execution_count": 2,
      "outputs": []
    },
    {
      "cell_type": "markdown",
      "source": [
        "# Logprobs exploration"
      ],
      "metadata": {
        "id": "bZ9dR2e9t9Om"
      }
    },
    {
      "cell_type": "code",
      "source": [
        "system_message = \"You are a next word prediction machine. You will get a sequence of words from the user. You should return the next work in the sequence.\"\n",
        "\n",
        "completion = client.chat.completions.create(\n",
        "  model=\"gpt-4-1106-preview\",\n",
        "  max_tokens=4,\n",
        "  temperature=0,\n",
        "  logprobs=True,\n",
        "  top_logprobs=3,\n",
        "  messages=[\n",
        "    {\"role\": \"system\", \"content\": system_message},\n",
        "    {\"role\": \"user\", \"content\": \"The\"}\n",
        "  ]\n",
        ")\n",
        "\n",
        "response = completion.choices[0].message.content\n",
        "print(response)\n"
      ],
      "metadata": {
        "colab": {
          "base_uri": "https://localhost:8080/"
        },
        "id": "pbOz2_CpZ1k_",
        "outputId": "d51c8d89-ebcf-49f5-91d3-0acaaafe6c5e"
      },
      "execution_count": 23,
      "outputs": [
        {
          "output_type": "stream",
          "name": "stdout",
          "text": [
            "quick\n"
          ]
        }
      ]
    },
    {
      "cell_type": "code",
      "source": [
        "print(completion.choices[0].logprobs.content[0].top_logprobs)"
      ],
      "metadata": {
        "colab": {
          "base_uri": "https://localhost:8080/"
        },
        "id": "KMDADWM4bdNF",
        "outputId": "78dc9d2c-0e62-4a2b-a71d-1761f174a400"
      },
      "execution_count": 24,
      "outputs": [
        {
          "output_type": "stream",
          "name": "stdout",
          "text": [
            "[TopLogprob(token='quick', bytes=[113, 117, 105, 99, 107], logprob=-0.49071938), TopLogprob(token='cat', bytes=[99, 97, 116], logprob=-1.3969693), TopLogprob(token='sun', bytes=[115, 117, 110], logprob=-2.6782193)]\n"
          ]
        }
      ]
    },
    {
      "cell_type": "code",
      "source": [
        "top_logprobs = completion.choices[0].logprobs.content[0].top_logprobs\n",
        "for token in top_logprobs:\n",
        "  print(f\"Token: {token.token}, Logprob: {token.logprob}, Linear Logprob: {np.round(np.exp(token.logprob)*100,2)}\")"
      ],
      "metadata": {
        "colab": {
          "base_uri": "https://localhost:8080/"
        },
        "id": "yzzmwCabcEAA",
        "outputId": "ca15cf3a-5e0c-4a04-c070-5c28a3d91d4d"
      },
      "execution_count": 25,
      "outputs": [
        {
          "output_type": "stream",
          "name": "stdout",
          "text": [
            "Token: quick, Logprob: -0.49071938, Linear Logprob: 61.22\n",
            "Token: cat, Logprob: -1.3969693, Linear Logprob: 24.73\n",
            "Token: sun, Logprob: -2.6782193, Linear Logprob: 6.87\n"
          ]
        }
      ]
    },
    {
      "cell_type": "code",
      "source": [
        "completion = client.chat.completions.create(\n",
        "  model=\"gpt-4-1106-preview\",\n",
        "  max_tokens=4,\n",
        "  temperature=0,\n",
        "  logprobs=True,\n",
        "  top_logprobs=3,\n",
        "  messages=[\n",
        "    {\"role\": \"system\", \"content\": system_message},\n",
        "    {\"role\": \"user\", \"content\": \"The\"}\n",
        "  ]\n",
        ")\n",
        "\n",
        "response = completion.choices[0].message.content\n",
        "print(response)"
      ],
      "metadata": {
        "colab": {
          "base_uri": "https://localhost:8080/"
        },
        "id": "SNLIIQ3LdQke",
        "outputId": "ee217a0f-d37e-4723-e4cf-9c9c9c3871f9"
      },
      "execution_count": 26,
      "outputs": [
        {
          "output_type": "stream",
          "name": "stdout",
          "text": [
            "quick\n"
          ]
        }
      ]
    },
    {
      "cell_type": "code",
      "source": [
        "top_logprobs = completion.choices[0].logprobs.content[0].top_logprobs\n",
        "for token in top_logprobs:\n",
        "  print(f\"Token: {token.token}, Logprob: {token.logprob}, Linear Logprob: {np.round(np.exp(token.logprob)*100,2)}\")"
      ],
      "metadata": {
        "colab": {
          "base_uri": "https://localhost:8080/"
        },
        "id": "ZWnpPtQSdYEG",
        "outputId": "3a1e72db-62f0-45b7-cb9e-15041611e1ac"
      },
      "execution_count": 27,
      "outputs": [
        {
          "output_type": "stream",
          "name": "stdout",
          "text": [
            "Token: quick, Logprob: -0.53744483, Linear Logprob: 58.42\n",
            "Token: cat, Logprob: -1.3499448, Linear Logprob: 25.93\n",
            "Token: sun, Logprob: -2.7718198, Linear Logprob: 6.25\n"
          ]
        }
      ]
    },
    {
      "cell_type": "markdown",
      "source": [
        "# Define TreeNode class"
      ],
      "metadata": {
        "id": "9ntFVtfAuDEE"
      }
    },
    {
      "cell_type": "code",
      "source": [
        "class TreeNode:\n",
        "  def __init__(self, token, linear_prob=100, depth=0):\n",
        "    self.token = token\n",
        "    self.linear_prob = linear_prob\n",
        "    self.depth = depth\n",
        "    self.children = []\n",
        "\n",
        "  def add_child(self, token, log_prob):\n",
        "    linear_prob = np.round(np.exp(log_prob)*100,2)\n",
        "    child_node = TreeNode(token, linear_prob, self.depth+1)\n",
        "    self.children.append(child_node)\n",
        "    return child_node\n",
        "\n",
        "def fetch_top_logprobs(completion):\n",
        "  top_logprobs = completion.choices[0].logprobs.content[0].top_logprobs\n",
        "  return top_logprobs\n",
        "\n",
        "def get_completion(prompt):\n",
        "  system_message = \"You are a next word prediction machine. You will get a sequence of words from the user. You should return the next work in the sequence.\"\n",
        "\n",
        "  completion = client.chat.completions.create(\n",
        "    model=\"gpt-4-1106-preview\",\n",
        "    max_tokens=4,\n",
        "    temperature=0,\n",
        "    logprobs=True,\n",
        "    top_logprobs=3,\n",
        "    messages=[\n",
        "      {\"role\": \"system\", \"content\": system_message},\n",
        "      {\"role\": \"user\", \"content\": prompt}\n",
        "    ]\n",
        "  )\n",
        "  return completion\n",
        "\n",
        "def build_prompt(node):\n",
        "    tokens = []\n",
        "    while node:\n",
        "        tokens.append(node.token)\n",
        "        node = node.parent if hasattr(node, 'parent') else None\n",
        "    return \" \".join(reversed(tokens)).strip()\n",
        "\n",
        "def expand_tree(node, current_depth, max_depth):\n",
        "    if current_depth < max_depth:\n",
        "        prompt = build_prompt(node)\n",
        "        completion = get_completion(prompt)\n",
        "        top_logprobs = fetch_top_logprobs(completion)\n",
        "        for token_info in top_logprobs:\n",
        "            child_node = node.add_child(token_info.token, token_info.logprob)\n",
        "            # Assign parent to child (optional, if you need to rebuild prompts later)\n",
        "            child_node.parent = node\n",
        "            expand_tree(child_node, current_depth + 1, max_depth)"
      ],
      "metadata": {
        "id": "k6HD0d3htZY3"
      },
      "execution_count": 28,
      "outputs": []
    },
    {
      "cell_type": "code",
      "source": [
        "root_node = TreeNode(\"The\")\n",
        "max_depth = 2  # Adding 2 layers to the tree\n",
        "expand_tree(root_node, 0, max_depth)"
      ],
      "metadata": {
        "id": "eFO8-pLjwo3e"
      },
      "execution_count": 29,
      "outputs": []
    },
    {
      "cell_type": "markdown",
      "source": [
        "### Print logprobs tree"
      ],
      "metadata": {
        "id": "_QeMDAqOuKbq"
      }
    },
    {
      "cell_type": "code",
      "source": [
        "from collections import deque\n",
        "\n",
        "def print_tree_by_level(root):\n",
        "    if not root:\n",
        "        return\n",
        "\n",
        "    queue = deque([root])  # Start with the root node in the queue\n",
        "\n",
        "    while queue:\n",
        "        level_size = len(queue)  # Number of elements (nodes) at the current level\n",
        "        current_level_nodes = []\n",
        "\n",
        "        for _ in range(level_size):\n",
        "            node = queue.popleft()  # Remove and return the leftmost node\n",
        "            current_level_nodes.append(f\"{node.token} (Prob: {node.linear_prob}%)\")\n",
        "\n",
        "            # Add all children of the current node to the queue\n",
        "            queue.extend(node.children)\n",
        "\n",
        "        # Print all nodes in the current level\n",
        "        print(\" \".join(current_level_nodes))\n"
      ],
      "metadata": {
        "id": "mMCrGlS50mb_"
      },
      "execution_count": 30,
      "outputs": []
    },
    {
      "cell_type": "code",
      "source": [
        "# Assuming your tree has been built and is rooted at `root_node`\n",
        "print_tree_by_level(root_node)"
      ],
      "metadata": {
        "colab": {
          "base_uri": "https://localhost:8080/"
        },
        "id": "fLo8o_AS0oaz",
        "outputId": "585a5ba6-d7a9-4fe6-d046-ea0901ee2d55"
      },
      "execution_count": 13,
      "outputs": [
        {
          "output_type": "stream",
          "name": "stdout",
          "text": [
            "The (Prob: 100%)\n",
            "quick (Prob: 57.3%) cat (Prob: 31.64%) sun (Prob: 5.17%)\n",
            "brown (Prob: 99.93%) The (Prob: 0.03%) \n",
            "\n",
            " (Prob: 0.02%) sat (Prob: 99.52%) ch (Prob: 0.17%) in (Prob: 0.08%) r (Prob: 47.97%) sh (Prob: 43.68%) sets (Prob: 7.59%)\n"
          ]
        }
      ]
    },
    {
      "cell_type": "markdown",
      "source": [
        "# One off tree visualization"
      ],
      "metadata": {
        "id": "aD3HAtBhuPRF"
      }
    },
    {
      "cell_type": "code",
      "source": [
        "def collect_edges_nodes(node, edges=[], nodes=[], parent_index=None, node_index=[0]):\n",
        "    \"\"\"\n",
        "    Recursively collects nodes and edges from the custom tree structure.\n",
        "\n",
        "    Args:\n",
        "        node: The current TreeNode being processed.\n",
        "        edges: The list of edges collected so far.\n",
        "        nodes: The list of nodes collected so far.\n",
        "        parent_index: The index of the current node's parent in the nodes list.\n",
        "        node_index: A single-item list used as a mutable counter for indexing nodes.\n",
        "\n",
        "    Returns:\n",
        "        A tuple containing two lists: nodes (as a list of labels) and edges (as a list of (parent, child) index pairs).\n",
        "    \"\"\"\n",
        "    current_index = node_index[0]\n",
        "    nodes.append(f\"{node.token} ({node.linear_prob}%)\")\n",
        "    if parent_index is not None:\n",
        "        edges.append((parent_index, current_index))\n",
        "\n",
        "    node_index[0] += 1\n",
        "    for child in node.children:\n",
        "        collect_edges_nodes(child, edges, nodes, current_index, node_index)\n",
        "\n",
        "    return nodes, edges\n"
      ],
      "metadata": {
        "id": "MdrqBKox2DtR"
      },
      "execution_count": 31,
      "outputs": []
    },
    {
      "cell_type": "code",
      "source": [
        "def visualize_tree_with_igraph(nodes, edges):\n",
        "    G = ig.Graph(edges=edges, directed=True)\n",
        "    lay = G.layout('rt')  # Reingold-Tilford layout for tree structures\n",
        "\n",
        "    position = {k: lay[k] for k in range(len(nodes))}\n",
        "    Y = [lay[k][1] for k in range(len(nodes))]\n",
        "    M = max(Y)\n",
        "\n",
        "    Xn = [position[k][0] for k in range(len(nodes))]\n",
        "    Yn = [2*M - position[k][1] for k in range(len(nodes))]\n",
        "    Xe = []\n",
        "    Ye = []\n",
        "    for edge in edges:\n",
        "        Xe += [position[edge[0]][0], position[edge[1]][0], None]\n",
        "        Ye += [2*M - position[edge[0]][1], 2*M - position[edge[1]][1], None]\n",
        "\n",
        "    lines = go.Scatter(x=Xe, y=Ye, mode='lines',\n",
        "                        line=dict(color='rgb(210,210,210)', width=1),\n",
        "                        hoverinfo='none')\n",
        "    dots = go.Scatter(x=Xn, y=Yn, mode='markers', name='',\n",
        "                      marker=dict(symbol='circle-dot', size=18, color='lightseagreen',\n",
        "                                  line=dict(color='rgb(50,50,50)', width=1)),\n",
        "                      text=nodes, hoverinfo='text', opacity=0.8)\n",
        "\n",
        "    layout = go.Layout(title='Logprobs Tree Visualization',\n",
        "                       showlegend=False, xaxis={'showgrid': False, 'zeroline': False, 'showticklabels': False},\n",
        "                       yaxis={'showgrid': False, 'zeroline': False, 'showticklabels': False},\n",
        "                       plot_bgcolor='white', margin={'l': 0, 'r': 0, 'b': 0, 't': 30})\n",
        "\n",
        "    fig = go.Figure(data=[lines, dots], layout=layout)\n",
        "    annotations = []\n",
        "    for i, label in enumerate(nodes):\n",
        "        annotations.append(dict(x=Xn[i], y=Yn[i], xref=\"x\", yref=\"y\",\n",
        "                                text=label, showarrow=False, font=dict(size=12),\n",
        "                                bgcolor=\"rgba(255, 255, 255, 0.5)\"))  # Semi-transparent background for readability\n",
        "\n",
        "    fig.update_layout(annotations=annotations)\n",
        "\n",
        "    fig.show()\n"
      ],
      "metadata": {
        "id": "MbHM-een2EXw"
      },
      "execution_count": 32,
      "outputs": []
    },
    {
      "cell_type": "code",
      "source": [
        "# Assuming your tree is rooted at `root_node` and is already built\n",
        "nodes, edges = collect_edges_nodes(root_node)\n",
        "visualize_tree_with_igraph(nodes, edges)"
      ],
      "metadata": {
        "colab": {
          "base_uri": "https://localhost:8080/",
          "height": 542
        },
        "id": "iya5r79a2GG5",
        "outputId": "4176b4a0-db66-4780-f4a3-69412bec890c"
      },
      "execution_count": 33,
      "outputs": [
        {
          "output_type": "display_data",
          "data": {
            "text/html": [
              "<html>\n",
              "<head><meta charset=\"utf-8\" /></head>\n",
              "<body>\n",
              "    <div>            <script src=\"https://cdnjs.cloudflare.com/ajax/libs/mathjax/2.7.5/MathJax.js?config=TeX-AMS-MML_SVG\"></script><script type=\"text/javascript\">if (window.MathJax && window.MathJax.Hub && window.MathJax.Hub.Config) {window.MathJax.Hub.Config({SVG: {font: \"STIX-Web\"}});}</script>                <script type=\"text/javascript\">window.PlotlyConfig = {MathJaxConfig: 'local'};</script>\n",
              "        <script charset=\"utf-8\" src=\"https://cdn.plot.ly/plotly-2.24.1.min.js\"></script>                <div id=\"e8903ced-06d9-4a39-b5cf-46e5893315f7\" class=\"plotly-graph-div\" style=\"height:525px; width:100%;\"></div>            <script type=\"text/javascript\">                                    window.PLOTLYENV=window.PLOTLYENV || {};                                    if (document.getElementById(\"e8903ced-06d9-4a39-b5cf-46e5893315f7\")) {                    Plotly.newPlot(                        \"e8903ced-06d9-4a39-b5cf-46e5893315f7\",                        [{\"hoverinfo\":\"none\",\"line\":{\"color\":\"rgb(210,210,210)\",\"width\":1},\"mode\":\"lines\",\"x\":[0.0,-3.0,null,-3.0,-4.0,null,-3.0,-3.0,null,-3.0,-2.0,null,0.0,0.0,null,0.0,-1.0,null,0.0,0.0,null,0.0,1.0,null,0.0,3.0,null,3.0,2.0,null,3.0,3.0,null,3.0,4.0,null],\"y\":[4.0,3.0,null,3.0,2.0,null,3.0,2.0,null,3.0,2.0,null,4.0,3.0,null,3.0,2.0,null,3.0,2.0,null,3.0,2.0,null,4.0,3.0,null,3.0,2.0,null,3.0,2.0,null,3.0,2.0,null],\"type\":\"scatter\"},{\"hoverinfo\":\"text\",\"marker\":{\"color\":\"lightseagreen\",\"line\":{\"color\":\"rgb(50,50,50)\",\"width\":1},\"size\":18,\"symbol\":\"circle-dot\"},\"mode\":\"markers\",\"name\":\"\",\"opacity\":0.8,\"text\":[\"The (100%)\",\"quick (58.42%)\",\"brown (99.93%)\",\"The (0.03%)\",\"\\n\\n (0.02%)\",\"cat (25.93%)\",\"sat (99.18%)\",\"ch (0.31%)\",\"in (0.21%)\",\"sun (6.25%)\",\"sh (61.73%)\",\"r (31.04%)\",\"sets (6.51%)\"],\"x\":[0.0,-3.0,-4.0,-3.0,-2.0,0.0,-1.0,0.0,1.0,3.0,2.0,3.0,4.0],\"y\":[4.0,3.0,2.0,2.0,2.0,3.0,2.0,2.0,2.0,3.0,2.0,2.0,2.0],\"type\":\"scatter\"}],                        {\"margin\":{\"b\":0,\"l\":0,\"r\":0,\"t\":30},\"plot_bgcolor\":\"white\",\"showlegend\":false,\"title\":{\"text\":\"Logprobs Tree Visualization\"},\"xaxis\":{\"showgrid\":false,\"showticklabels\":false,\"zeroline\":false},\"yaxis\":{\"showgrid\":false,\"showticklabels\":false,\"zeroline\":false},\"template\":{\"data\":{\"histogram2dcontour\":[{\"type\":\"histogram2dcontour\",\"colorbar\":{\"outlinewidth\":0,\"ticks\":\"\"},\"colorscale\":[[0.0,\"#0d0887\"],[0.1111111111111111,\"#46039f\"],[0.2222222222222222,\"#7201a8\"],[0.3333333333333333,\"#9c179e\"],[0.4444444444444444,\"#bd3786\"],[0.5555555555555556,\"#d8576b\"],[0.6666666666666666,\"#ed7953\"],[0.7777777777777778,\"#fb9f3a\"],[0.8888888888888888,\"#fdca26\"],[1.0,\"#f0f921\"]]}],\"choropleth\":[{\"type\":\"choropleth\",\"colorbar\":{\"outlinewidth\":0,\"ticks\":\"\"}}],\"histogram2d\":[{\"type\":\"histogram2d\",\"colorbar\":{\"outlinewidth\":0,\"ticks\":\"\"},\"colorscale\":[[0.0,\"#0d0887\"],[0.1111111111111111,\"#46039f\"],[0.2222222222222222,\"#7201a8\"],[0.3333333333333333,\"#9c179e\"],[0.4444444444444444,\"#bd3786\"],[0.5555555555555556,\"#d8576b\"],[0.6666666666666666,\"#ed7953\"],[0.7777777777777778,\"#fb9f3a\"],[0.8888888888888888,\"#fdca26\"],[1.0,\"#f0f921\"]]}],\"heatmap\":[{\"type\":\"heatmap\",\"colorbar\":{\"outlinewidth\":0,\"ticks\":\"\"},\"colorscale\":[[0.0,\"#0d0887\"],[0.1111111111111111,\"#46039f\"],[0.2222222222222222,\"#7201a8\"],[0.3333333333333333,\"#9c179e\"],[0.4444444444444444,\"#bd3786\"],[0.5555555555555556,\"#d8576b\"],[0.6666666666666666,\"#ed7953\"],[0.7777777777777778,\"#fb9f3a\"],[0.8888888888888888,\"#fdca26\"],[1.0,\"#f0f921\"]]}],\"heatmapgl\":[{\"type\":\"heatmapgl\",\"colorbar\":{\"outlinewidth\":0,\"ticks\":\"\"},\"colorscale\":[[0.0,\"#0d0887\"],[0.1111111111111111,\"#46039f\"],[0.2222222222222222,\"#7201a8\"],[0.3333333333333333,\"#9c179e\"],[0.4444444444444444,\"#bd3786\"],[0.5555555555555556,\"#d8576b\"],[0.6666666666666666,\"#ed7953\"],[0.7777777777777778,\"#fb9f3a\"],[0.8888888888888888,\"#fdca26\"],[1.0,\"#f0f921\"]]}],\"contourcarpet\":[{\"type\":\"contourcarpet\",\"colorbar\":{\"outlinewidth\":0,\"ticks\":\"\"}}],\"contour\":[{\"type\":\"contour\",\"colorbar\":{\"outlinewidth\":0,\"ticks\":\"\"},\"colorscale\":[[0.0,\"#0d0887\"],[0.1111111111111111,\"#46039f\"],[0.2222222222222222,\"#7201a8\"],[0.3333333333333333,\"#9c179e\"],[0.4444444444444444,\"#bd3786\"],[0.5555555555555556,\"#d8576b\"],[0.6666666666666666,\"#ed7953\"],[0.7777777777777778,\"#fb9f3a\"],[0.8888888888888888,\"#fdca26\"],[1.0,\"#f0f921\"]]}],\"surface\":[{\"type\":\"surface\",\"colorbar\":{\"outlinewidth\":0,\"ticks\":\"\"},\"colorscale\":[[0.0,\"#0d0887\"],[0.1111111111111111,\"#46039f\"],[0.2222222222222222,\"#7201a8\"],[0.3333333333333333,\"#9c179e\"],[0.4444444444444444,\"#bd3786\"],[0.5555555555555556,\"#d8576b\"],[0.6666666666666666,\"#ed7953\"],[0.7777777777777778,\"#fb9f3a\"],[0.8888888888888888,\"#fdca26\"],[1.0,\"#f0f921\"]]}],\"mesh3d\":[{\"type\":\"mesh3d\",\"colorbar\":{\"outlinewidth\":0,\"ticks\":\"\"}}],\"scatter\":[{\"fillpattern\":{\"fillmode\":\"overlay\",\"size\":10,\"solidity\":0.2},\"type\":\"scatter\"}],\"parcoords\":[{\"type\":\"parcoords\",\"line\":{\"colorbar\":{\"outlinewidth\":0,\"ticks\":\"\"}}}],\"scatterpolargl\":[{\"type\":\"scatterpolargl\",\"marker\":{\"colorbar\":{\"outlinewidth\":0,\"ticks\":\"\"}}}],\"bar\":[{\"error_x\":{\"color\":\"#2a3f5f\"},\"error_y\":{\"color\":\"#2a3f5f\"},\"marker\":{\"line\":{\"color\":\"#E5ECF6\",\"width\":0.5},\"pattern\":{\"fillmode\":\"overlay\",\"size\":10,\"solidity\":0.2}},\"type\":\"bar\"}],\"scattergeo\":[{\"type\":\"scattergeo\",\"marker\":{\"colorbar\":{\"outlinewidth\":0,\"ticks\":\"\"}}}],\"scatterpolar\":[{\"type\":\"scatterpolar\",\"marker\":{\"colorbar\":{\"outlinewidth\":0,\"ticks\":\"\"}}}],\"histogram\":[{\"marker\":{\"pattern\":{\"fillmode\":\"overlay\",\"size\":10,\"solidity\":0.2}},\"type\":\"histogram\"}],\"scattergl\":[{\"type\":\"scattergl\",\"marker\":{\"colorbar\":{\"outlinewidth\":0,\"ticks\":\"\"}}}],\"scatter3d\":[{\"type\":\"scatter3d\",\"line\":{\"colorbar\":{\"outlinewidth\":0,\"ticks\":\"\"}},\"marker\":{\"colorbar\":{\"outlinewidth\":0,\"ticks\":\"\"}}}],\"scattermapbox\":[{\"type\":\"scattermapbox\",\"marker\":{\"colorbar\":{\"outlinewidth\":0,\"ticks\":\"\"}}}],\"scatterternary\":[{\"type\":\"scatterternary\",\"marker\":{\"colorbar\":{\"outlinewidth\":0,\"ticks\":\"\"}}}],\"scattercarpet\":[{\"type\":\"scattercarpet\",\"marker\":{\"colorbar\":{\"outlinewidth\":0,\"ticks\":\"\"}}}],\"carpet\":[{\"aaxis\":{\"endlinecolor\":\"#2a3f5f\",\"gridcolor\":\"white\",\"linecolor\":\"white\",\"minorgridcolor\":\"white\",\"startlinecolor\":\"#2a3f5f\"},\"baxis\":{\"endlinecolor\":\"#2a3f5f\",\"gridcolor\":\"white\",\"linecolor\":\"white\",\"minorgridcolor\":\"white\",\"startlinecolor\":\"#2a3f5f\"},\"type\":\"carpet\"}],\"table\":[{\"cells\":{\"fill\":{\"color\":\"#EBF0F8\"},\"line\":{\"color\":\"white\"}},\"header\":{\"fill\":{\"color\":\"#C8D4E3\"},\"line\":{\"color\":\"white\"}},\"type\":\"table\"}],\"barpolar\":[{\"marker\":{\"line\":{\"color\":\"#E5ECF6\",\"width\":0.5},\"pattern\":{\"fillmode\":\"overlay\",\"size\":10,\"solidity\":0.2}},\"type\":\"barpolar\"}],\"pie\":[{\"automargin\":true,\"type\":\"pie\"}]},\"layout\":{\"autotypenumbers\":\"strict\",\"colorway\":[\"#636efa\",\"#EF553B\",\"#00cc96\",\"#ab63fa\",\"#FFA15A\",\"#19d3f3\",\"#FF6692\",\"#B6E880\",\"#FF97FF\",\"#FECB52\"],\"font\":{\"color\":\"#2a3f5f\"},\"hovermode\":\"closest\",\"hoverlabel\":{\"align\":\"left\"},\"paper_bgcolor\":\"white\",\"plot_bgcolor\":\"#E5ECF6\",\"polar\":{\"bgcolor\":\"#E5ECF6\",\"angularaxis\":{\"gridcolor\":\"white\",\"linecolor\":\"white\",\"ticks\":\"\"},\"radialaxis\":{\"gridcolor\":\"white\",\"linecolor\":\"white\",\"ticks\":\"\"}},\"ternary\":{\"bgcolor\":\"#E5ECF6\",\"aaxis\":{\"gridcolor\":\"white\",\"linecolor\":\"white\",\"ticks\":\"\"},\"baxis\":{\"gridcolor\":\"white\",\"linecolor\":\"white\",\"ticks\":\"\"},\"caxis\":{\"gridcolor\":\"white\",\"linecolor\":\"white\",\"ticks\":\"\"}},\"coloraxis\":{\"colorbar\":{\"outlinewidth\":0,\"ticks\":\"\"}},\"colorscale\":{\"sequential\":[[0.0,\"#0d0887\"],[0.1111111111111111,\"#46039f\"],[0.2222222222222222,\"#7201a8\"],[0.3333333333333333,\"#9c179e\"],[0.4444444444444444,\"#bd3786\"],[0.5555555555555556,\"#d8576b\"],[0.6666666666666666,\"#ed7953\"],[0.7777777777777778,\"#fb9f3a\"],[0.8888888888888888,\"#fdca26\"],[1.0,\"#f0f921\"]],\"sequentialminus\":[[0.0,\"#0d0887\"],[0.1111111111111111,\"#46039f\"],[0.2222222222222222,\"#7201a8\"],[0.3333333333333333,\"#9c179e\"],[0.4444444444444444,\"#bd3786\"],[0.5555555555555556,\"#d8576b\"],[0.6666666666666666,\"#ed7953\"],[0.7777777777777778,\"#fb9f3a\"],[0.8888888888888888,\"#fdca26\"],[1.0,\"#f0f921\"]],\"diverging\":[[0,\"#8e0152\"],[0.1,\"#c51b7d\"],[0.2,\"#de77ae\"],[0.3,\"#f1b6da\"],[0.4,\"#fde0ef\"],[0.5,\"#f7f7f7\"],[0.6,\"#e6f5d0\"],[0.7,\"#b8e186\"],[0.8,\"#7fbc41\"],[0.9,\"#4d9221\"],[1,\"#276419\"]]},\"xaxis\":{\"gridcolor\":\"white\",\"linecolor\":\"white\",\"ticks\":\"\",\"title\":{\"standoff\":15},\"zerolinecolor\":\"white\",\"automargin\":true,\"zerolinewidth\":2},\"yaxis\":{\"gridcolor\":\"white\",\"linecolor\":\"white\",\"ticks\":\"\",\"title\":{\"standoff\":15},\"zerolinecolor\":\"white\",\"automargin\":true,\"zerolinewidth\":2},\"scene\":{\"xaxis\":{\"backgroundcolor\":\"#E5ECF6\",\"gridcolor\":\"white\",\"linecolor\":\"white\",\"showbackground\":true,\"ticks\":\"\",\"zerolinecolor\":\"white\",\"gridwidth\":2},\"yaxis\":{\"backgroundcolor\":\"#E5ECF6\",\"gridcolor\":\"white\",\"linecolor\":\"white\",\"showbackground\":true,\"ticks\":\"\",\"zerolinecolor\":\"white\",\"gridwidth\":2},\"zaxis\":{\"backgroundcolor\":\"#E5ECF6\",\"gridcolor\":\"white\",\"linecolor\":\"white\",\"showbackground\":true,\"ticks\":\"\",\"zerolinecolor\":\"white\",\"gridwidth\":2}},\"shapedefaults\":{\"line\":{\"color\":\"#2a3f5f\"}},\"annotationdefaults\":{\"arrowcolor\":\"#2a3f5f\",\"arrowhead\":0,\"arrowwidth\":1},\"geo\":{\"bgcolor\":\"white\",\"landcolor\":\"#E5ECF6\",\"subunitcolor\":\"white\",\"showland\":true,\"showlakes\":true,\"lakecolor\":\"white\"},\"title\":{\"x\":0.05},\"mapbox\":{\"style\":\"light\"}}},\"annotations\":[{\"bgcolor\":\"rgba(255, 255, 255, 0.5)\",\"font\":{\"size\":12},\"showarrow\":false,\"text\":\"The (100%)\",\"x\":0.0,\"xref\":\"x\",\"y\":4.0,\"yref\":\"y\"},{\"bgcolor\":\"rgba(255, 255, 255, 0.5)\",\"font\":{\"size\":12},\"showarrow\":false,\"text\":\"quick (58.42%)\",\"x\":-3.0,\"xref\":\"x\",\"y\":3.0,\"yref\":\"y\"},{\"bgcolor\":\"rgba(255, 255, 255, 0.5)\",\"font\":{\"size\":12},\"showarrow\":false,\"text\":\"brown (99.93%)\",\"x\":-4.0,\"xref\":\"x\",\"y\":2.0,\"yref\":\"y\"},{\"bgcolor\":\"rgba(255, 255, 255, 0.5)\",\"font\":{\"size\":12},\"showarrow\":false,\"text\":\"The (0.03%)\",\"x\":-3.0,\"xref\":\"x\",\"y\":2.0,\"yref\":\"y\"},{\"bgcolor\":\"rgba(255, 255, 255, 0.5)\",\"font\":{\"size\":12},\"showarrow\":false,\"text\":\"\\n\\n (0.02%)\",\"x\":-2.0,\"xref\":\"x\",\"y\":2.0,\"yref\":\"y\"},{\"bgcolor\":\"rgba(255, 255, 255, 0.5)\",\"font\":{\"size\":12},\"showarrow\":false,\"text\":\"cat (25.93%)\",\"x\":0.0,\"xref\":\"x\",\"y\":3.0,\"yref\":\"y\"},{\"bgcolor\":\"rgba(255, 255, 255, 0.5)\",\"font\":{\"size\":12},\"showarrow\":false,\"text\":\"sat (99.18%)\",\"x\":-1.0,\"xref\":\"x\",\"y\":2.0,\"yref\":\"y\"},{\"bgcolor\":\"rgba(255, 255, 255, 0.5)\",\"font\":{\"size\":12},\"showarrow\":false,\"text\":\"ch (0.31%)\",\"x\":0.0,\"xref\":\"x\",\"y\":2.0,\"yref\":\"y\"},{\"bgcolor\":\"rgba(255, 255, 255, 0.5)\",\"font\":{\"size\":12},\"showarrow\":false,\"text\":\"in (0.21%)\",\"x\":1.0,\"xref\":\"x\",\"y\":2.0,\"yref\":\"y\"},{\"bgcolor\":\"rgba(255, 255, 255, 0.5)\",\"font\":{\"size\":12},\"showarrow\":false,\"text\":\"sun (6.25%)\",\"x\":3.0,\"xref\":\"x\",\"y\":3.0,\"yref\":\"y\"},{\"bgcolor\":\"rgba(255, 255, 255, 0.5)\",\"font\":{\"size\":12},\"showarrow\":false,\"text\":\"sh (61.73%)\",\"x\":2.0,\"xref\":\"x\",\"y\":2.0,\"yref\":\"y\"},{\"bgcolor\":\"rgba(255, 255, 255, 0.5)\",\"font\":{\"size\":12},\"showarrow\":false,\"text\":\"r (31.04%)\",\"x\":3.0,\"xref\":\"x\",\"y\":2.0,\"yref\":\"y\"},{\"bgcolor\":\"rgba(255, 255, 255, 0.5)\",\"font\":{\"size\":12},\"showarrow\":false,\"text\":\"sets (6.51%)\",\"x\":4.0,\"xref\":\"x\",\"y\":2.0,\"yref\":\"y\"}]},                        {\"responsive\": true}                    ).then(function(){\n",
              "                            \n",
              "var gd = document.getElementById('e8903ced-06d9-4a39-b5cf-46e5893315f7');\n",
              "var x = new MutationObserver(function (mutations, observer) {{\n",
              "        var display = window.getComputedStyle(gd).display;\n",
              "        if (!display || display === 'none') {{\n",
              "            console.log([gd, 'removed!']);\n",
              "            Plotly.purge(gd);\n",
              "            observer.disconnect();\n",
              "        }}\n",
              "}});\n",
              "\n",
              "// Listen for the removal of the full notebook cells\n",
              "var notebookContainer = gd.closest('#notebook-container');\n",
              "if (notebookContainer) {{\n",
              "    x.observe(notebookContainer, {childList: true});\n",
              "}}\n",
              "\n",
              "// Listen for the clearing of the current output cell\n",
              "var outputEl = gd.closest('.output');\n",
              "if (outputEl) {{\n",
              "    x.observe(outputEl, {childList: true});\n",
              "}}\n",
              "\n",
              "                        })                };                            </script>        </div>\n",
              "</body>\n",
              "</html>"
            ]
          },
          "metadata": {}
        }
      ]
    },
    {
      "cell_type": "markdown",
      "source": [
        "# Build log probs tree for a given starting token or prompt\n",
        "\n",
        "Note: tree will have nodes scaled based on probability"
      ],
      "metadata": {
        "id": "rRyfEqrIkXBP"
      }
    },
    {
      "cell_type": "markdown",
      "source": [
        "### Define TreeNode class\n",
        "In case cell above has not been run"
      ],
      "metadata": {
        "id": "E7FDOmnwufPG"
      }
    },
    {
      "cell_type": "code",
      "source": [
        "class TreeNode:\n",
        "  def __init__(self, token, linear_prob=100, depth=0):\n",
        "    self.token = token\n",
        "    self.linear_prob = linear_prob\n",
        "    self.depth = depth\n",
        "    self.children = []\n",
        "\n",
        "  def add_child(self, token, log_prob):\n",
        "    linear_prob = np.round(np.exp(log_prob)*100,2)\n",
        "    child_node = TreeNode(token, linear_prob, self.depth+1)\n",
        "    self.children.append(child_node)\n",
        "    return child_node\n",
        "\n",
        "def fetch_top_logprobs(completion):\n",
        "  top_logprobs = completion.choices[0].logprobs.content[0].top_logprobs\n",
        "  return top_logprobs\n",
        "\n",
        "def get_completion(prompt):\n",
        "  system_message = \"You are a next word prediction machine. You will get a sequence of words from the user. You should return the next work in the sequence.\"\n",
        "\n",
        "  completion = client.chat.completions.create(\n",
        "    model=\"gpt-4-1106-preview\",\n",
        "    max_tokens=4,\n",
        "    temperature=0,\n",
        "    logprobs=True,\n",
        "    top_logprobs=3,\n",
        "    messages=[\n",
        "      {\"role\": \"system\", \"content\": system_message},\n",
        "      {\"role\": \"user\", \"content\": prompt}\n",
        "    ]\n",
        "  )\n",
        "  return completion\n",
        "\n",
        "def build_prompt(node):\n",
        "    tokens = []\n",
        "    while node:\n",
        "        tokens.append(node.token)\n",
        "        node = node.parent if hasattr(node, 'parent') else None\n",
        "    return \" \".join(reversed(tokens)).strip()\n",
        "\n",
        "def expand_tree(node, current_depth, max_depth):\n",
        "    if current_depth < max_depth:\n",
        "        prompt = build_prompt(node)\n",
        "        completion = get_completion(prompt)\n",
        "        top_logprobs = fetch_top_logprobs(completion)\n",
        "        for token_info in top_logprobs:\n",
        "            child_node = node.add_child(token_info.token, token_info.logprob)\n",
        "            # Assign parent to child (optional, if you need to rebuild prompts later)\n",
        "            child_node.parent = node\n",
        "            expand_tree(child_node, current_depth + 1, max_depth)"
      ],
      "metadata": {
        "id": "twUSa_U3ukNQ"
      },
      "execution_count": 34,
      "outputs": []
    },
    {
      "cell_type": "markdown",
      "source": [
        "### Set up functions\n"
      ],
      "metadata": {
        "id": "F_dOlljNlcBp"
      }
    },
    {
      "cell_type": "code",
      "source": [
        "def collect_edges_nodes(node, edges=None, nodes=None, parent_index=None, node_index=[0], max_probs_per_level=None, current_level=0):\n",
        "    if edges is None: edges = []\n",
        "    if nodes is None: nodes = []\n",
        "    if max_probs_per_level is None: max_probs_per_level = {}\n",
        "\n",
        "    # Update max probability for the current level\n",
        "    max_probs_per_level[current_level] = max(max_probs_per_level.get(current_level, 0), node.linear_prob)\n",
        "\n",
        "    current_index = node_index[0]\n",
        "    node_label = f\"{node.token} ({node.linear_prob}%)\"\n",
        "    nodes.append((current_level, node_label, node.linear_prob))  # Include level and probability for scaling\n",
        "    if parent_index is not None:\n",
        "        edges.append((parent_index, current_index))\n",
        "\n",
        "    node_index[0] += 1\n",
        "    for child in node.children:\n",
        "        collect_edges_nodes(child, edges, nodes, current_index, node_index, max_probs_per_level, current_level + 1)\n",
        "\n",
        "    return nodes, edges, max_probs_per_level\n"
      ],
      "metadata": {
        "id": "DuOI7W7ZkWSy"
      },
      "execution_count": 35,
      "outputs": []
    },
    {
      "cell_type": "code",
      "source": [
        "def collect_edges_nodes(node, edges=None, nodes=None, parent_index=None, node_index=None, max_probs_per_level=None, current_level=0):\n",
        "    if edges is None: edges = []\n",
        "    if nodes is None: nodes = []\n",
        "    if node_index is None: node_index = [0]  # Re-initialize node_index for each visualization\n",
        "    if max_probs_per_level is None: max_probs_per_level = {}\n",
        "\n",
        "    # Update max probability for the current level\n",
        "    max_probs_per_level[current_level] = max(max_probs_per_level.get(current_level, 0), node.linear_prob)\n",
        "\n",
        "    current_index = node_index[0]\n",
        "    node_label = f\"{node.token} ({node.linear_prob}%)\"\n",
        "    nodes.append((current_level, node_label, node.linear_prob))  # Include level and probability for scaling\n",
        "    if parent_index is not None:\n",
        "        edges.append((parent_index, current_index))\n",
        "\n",
        "    node_index[0] += 1\n",
        "    for child in node.children:\n",
        "        collect_edges_nodes(child, edges, nodes, current_index, node_index, max_probs_per_level, current_level + 1)\n",
        "\n",
        "    return nodes, edges, max_probs_per_level\n"
      ],
      "metadata": {
        "id": "OMm_B8hdqAz0"
      },
      "execution_count": 36,
      "outputs": []
    },
    {
      "cell_type": "code",
      "source": [
        "def visualize_tree_with_igraph(nodes, edges, max_probs_per_level):\n",
        "    G = ig.Graph(edges=edges, directed=True)\n",
        "    lay = G.layout('rt')\n",
        "\n",
        "    position = {k: lay[k] for k in range(len(nodes))}\n",
        "    Y = [lay[k][1] for k in range(len(nodes))]\n",
        "    M = max(Y)\n",
        "\n",
        "    # Preparing data for Plotly\n",
        "    Xn, Yn, sizes, texts = [], [], [], []\n",
        "    for k, (level, label, prob) in enumerate(nodes):\n",
        "        Xn.append(position[k][0])\n",
        "        Yn.append(2*M - position[k][1])\n",
        "        # Scale node size by its probability relative to the max at its level\n",
        "        relative_size = 3*prob / max_probs_per_level[level] * 40  # Base size factor\n",
        "        sizes.append(relative_size)\n",
        "        texts.append(label)\n",
        "\n",
        "    lines, dots = create_plotly_traces(Xn, Yn, sizes, texts, edges, position, M)\n",
        "    plot_with_plotly(lines, dots)\n",
        "\n",
        "def create_plotly_traces(Xn, Yn, sizes, texts, edges, position, M):\n",
        "    Xe, Ye = [], []\n",
        "    for edge in edges:\n",
        "        Xe += [position[edge[0]][0], position[edge[1]][0], None]\n",
        "        Ye += [2*M - position[edge[0]][1], 2*M - position[edge[1]][1], None]\n",
        "\n",
        "    lines = go.Scatter(x=Xe, y=Ye, mode='lines', line=dict(color='rgb(210,210,210)', width=1), hoverinfo='none')\n",
        "    dots = go.Scatter(x=Xn, y=Yn, mode='markers', name='', marker=dict(symbol='circle-dot', size=sizes, color='lightseagreen', line=dict(color='rgb(50,50,50)', width=1)), text=texts, hoverinfo='text', opacity=0.8)\n",
        "\n",
        "    return lines, dots\n",
        "\n",
        "def plot_with_plotly(lines, dots):\n",
        "    layout = go.Layout(\n",
        "        title='Tree Visualization with Scaled Nodes',\n",
        "        showlegend=False,\n",
        "        xaxis={'showgrid': False, 'zeroline': False, 'showticklabels': False},\n",
        "        yaxis={'showgrid': False, 'zeroline': False, 'showticklabels': False},\n",
        "        plot_bgcolor='white',\n",
        "        margin={'l': 0, 'r': 0, 'b': 0, 't': 30},\n",
        "        # Add hovermode to layout to support text visibility\n",
        "        hovermode='closest'\n",
        "    )\n",
        "\n",
        "    # Adjust dots Scatter for text visibility\n",
        "    # Note: 'text' and 'textposition' are already part of dots, so we enhance it here for visibility\n",
        "    dots.marker.size = [size if size > 10 else 10 for size in dots.marker.size]  # Ensure minimum size for visibility\n",
        "    dots.textposition = 'bottom center'  # Adjust as needed to position text\n",
        "\n",
        "    fig = go.Figure(data=[lines, dots], layout=layout)\n",
        "\n",
        "    # Optionally, add annotations directly if finer control is needed, or adjust textposition above\n",
        "    for idx, text in enumerate(dots.text):\n",
        "      fig.add_annotation(x=dots.x[idx], y=dots.y[idx], text=text, showarrow=False, yshift=10)\n",
        "\n",
        "    fig.show()\n",
        "\n"
      ],
      "metadata": {
        "id": "hq94QZpMkgIK"
      },
      "execution_count": 37,
      "outputs": []
    },
    {
      "cell_type": "markdown",
      "source": [
        "### Wrap in function"
      ],
      "metadata": {
        "id": "zUK7n5cAtte_"
      }
    },
    {
      "cell_type": "code",
      "source": [
        "def visualize_tree(root_node):\n",
        "  nodes, edges, max_probs_per_level = collect_edges_nodes(root_node)\n",
        "  visualize_tree_with_igraph(nodes, edges, max_probs_per_level)\n",
        "\n",
        "def build_tree(first_token):\n",
        "  root_node = TreeNode(first_token)\n",
        "  max_depth = 2  # Adding 2 layers to the tree\n",
        "  expand_tree(root_node, 0, max_depth)\n",
        "  return root_node\n",
        "\n",
        "def get_tree_visualization(first_token):\n",
        "  root_node = build_tree(first_token)\n",
        "  visualize_tree(root_node)"
      ],
      "metadata": {
        "id": "h6TPld-gllxn"
      },
      "execution_count": 38,
      "outputs": []
    },
    {
      "cell_type": "markdown",
      "source": [
        "### Call function"
      ],
      "metadata": {
        "id": "Rt7NtV9NtwqH"
      }
    },
    {
      "cell_type": "code",
      "source": [
        "get_tree_visualization(\"The\")"
      ],
      "metadata": {
        "colab": {
          "base_uri": "https://localhost:8080/",
          "height": 542
        },
        "id": "AXh5u7OPxbVC",
        "outputId": "4d70cf0d-5a53-4e3e-bd6d-3cb4447a4bf2"
      },
      "execution_count": 40,
      "outputs": [
        {
          "output_type": "display_data",
          "data": {
            "text/html": [
              "<html>\n",
              "<head><meta charset=\"utf-8\" /></head>\n",
              "<body>\n",
              "    <div>            <script src=\"https://cdnjs.cloudflare.com/ajax/libs/mathjax/2.7.5/MathJax.js?config=TeX-AMS-MML_SVG\"></script><script type=\"text/javascript\">if (window.MathJax && window.MathJax.Hub && window.MathJax.Hub.Config) {window.MathJax.Hub.Config({SVG: {font: \"STIX-Web\"}});}</script>                <script type=\"text/javascript\">window.PlotlyConfig = {MathJaxConfig: 'local'};</script>\n",
              "        <script charset=\"utf-8\" src=\"https://cdn.plot.ly/plotly-2.24.1.min.js\"></script>                <div id=\"1b32561e-cf82-4bd3-84bc-61dc14390c68\" class=\"plotly-graph-div\" style=\"height:525px; width:100%;\"></div>            <script type=\"text/javascript\">                                    window.PLOTLYENV=window.PLOTLYENV || {};                                    if (document.getElementById(\"1b32561e-cf82-4bd3-84bc-61dc14390c68\")) {                    Plotly.newPlot(                        \"1b32561e-cf82-4bd3-84bc-61dc14390c68\",                        [{\"hoverinfo\":\"none\",\"line\":{\"color\":\"rgb(210,210,210)\",\"width\":1},\"mode\":\"lines\",\"x\":[0.0,-3.0,null,-3.0,-4.0,null,-3.0,-3.0,null,-3.0,-2.0,null,0.0,0.0,null,0.0,-1.0,null,0.0,0.0,null,0.0,1.0,null,0.0,3.0,null,3.0,2.0,null,3.0,3.0,null,3.0,4.0,null],\"y\":[4.0,3.0,null,3.0,2.0,null,3.0,2.0,null,3.0,2.0,null,4.0,3.0,null,3.0,2.0,null,3.0,2.0,null,3.0,2.0,null,4.0,3.0,null,3.0,2.0,null,3.0,2.0,null,3.0,2.0,null],\"type\":\"scatter\"},{\"hoverinfo\":\"text\",\"marker\":{\"color\":\"lightseagreen\",\"line\":{\"color\":\"rgb(50,50,50)\",\"width\":1},\"size\":[120.0,119.99999999999999,120.0,10,10,53.262581307771306,119.47163014109876,10,10,12.838069154399179,75.8090663464425,33.64755328730111,10],\"symbol\":\"circle-dot\"},\"mode\":\"markers\",\"name\":\"\",\"opacity\":0.8,\"text\":[\"The (100%)\",\"quick (58.42%)\",\"brown (99.93%)\",\"The (0.03%)\",\"\\n\\n (0.02%)\",\"cat (25.93%)\",\"sat (99.49%)\",\"ch (0.18%)\",\"jump (0.12%)\",\"sun (6.25%)\",\"sh (63.13%)\",\"r (28.02%)\",\"sets (8.28%)\"],\"textposition\":\"bottom center\",\"x\":[0.0,-3.0,-4.0,-3.0,-2.0,0.0,-1.0,0.0,1.0,3.0,2.0,3.0,4.0],\"y\":[4.0,3.0,2.0,2.0,2.0,3.0,2.0,2.0,2.0,3.0,2.0,2.0,2.0],\"type\":\"scatter\"}],                        {\"hovermode\":\"closest\",\"margin\":{\"b\":0,\"l\":0,\"r\":0,\"t\":30},\"plot_bgcolor\":\"white\",\"showlegend\":false,\"title\":{\"text\":\"Tree Visualization with Scaled Nodes\"},\"xaxis\":{\"showgrid\":false,\"showticklabels\":false,\"zeroline\":false},\"yaxis\":{\"showgrid\":false,\"showticklabels\":false,\"zeroline\":false},\"template\":{\"data\":{\"histogram2dcontour\":[{\"type\":\"histogram2dcontour\",\"colorbar\":{\"outlinewidth\":0,\"ticks\":\"\"},\"colorscale\":[[0.0,\"#0d0887\"],[0.1111111111111111,\"#46039f\"],[0.2222222222222222,\"#7201a8\"],[0.3333333333333333,\"#9c179e\"],[0.4444444444444444,\"#bd3786\"],[0.5555555555555556,\"#d8576b\"],[0.6666666666666666,\"#ed7953\"],[0.7777777777777778,\"#fb9f3a\"],[0.8888888888888888,\"#fdca26\"],[1.0,\"#f0f921\"]]}],\"choropleth\":[{\"type\":\"choropleth\",\"colorbar\":{\"outlinewidth\":0,\"ticks\":\"\"}}],\"histogram2d\":[{\"type\":\"histogram2d\",\"colorbar\":{\"outlinewidth\":0,\"ticks\":\"\"},\"colorscale\":[[0.0,\"#0d0887\"],[0.1111111111111111,\"#46039f\"],[0.2222222222222222,\"#7201a8\"],[0.3333333333333333,\"#9c179e\"],[0.4444444444444444,\"#bd3786\"],[0.5555555555555556,\"#d8576b\"],[0.6666666666666666,\"#ed7953\"],[0.7777777777777778,\"#fb9f3a\"],[0.8888888888888888,\"#fdca26\"],[1.0,\"#f0f921\"]]}],\"heatmap\":[{\"type\":\"heatmap\",\"colorbar\":{\"outlinewidth\":0,\"ticks\":\"\"},\"colorscale\":[[0.0,\"#0d0887\"],[0.1111111111111111,\"#46039f\"],[0.2222222222222222,\"#7201a8\"],[0.3333333333333333,\"#9c179e\"],[0.4444444444444444,\"#bd3786\"],[0.5555555555555556,\"#d8576b\"],[0.6666666666666666,\"#ed7953\"],[0.7777777777777778,\"#fb9f3a\"],[0.8888888888888888,\"#fdca26\"],[1.0,\"#f0f921\"]]}],\"heatmapgl\":[{\"type\":\"heatmapgl\",\"colorbar\":{\"outlinewidth\":0,\"ticks\":\"\"},\"colorscale\":[[0.0,\"#0d0887\"],[0.1111111111111111,\"#46039f\"],[0.2222222222222222,\"#7201a8\"],[0.3333333333333333,\"#9c179e\"],[0.4444444444444444,\"#bd3786\"],[0.5555555555555556,\"#d8576b\"],[0.6666666666666666,\"#ed7953\"],[0.7777777777777778,\"#fb9f3a\"],[0.8888888888888888,\"#fdca26\"],[1.0,\"#f0f921\"]]}],\"contourcarpet\":[{\"type\":\"contourcarpet\",\"colorbar\":{\"outlinewidth\":0,\"ticks\":\"\"}}],\"contour\":[{\"type\":\"contour\",\"colorbar\":{\"outlinewidth\":0,\"ticks\":\"\"},\"colorscale\":[[0.0,\"#0d0887\"],[0.1111111111111111,\"#46039f\"],[0.2222222222222222,\"#7201a8\"],[0.3333333333333333,\"#9c179e\"],[0.4444444444444444,\"#bd3786\"],[0.5555555555555556,\"#d8576b\"],[0.6666666666666666,\"#ed7953\"],[0.7777777777777778,\"#fb9f3a\"],[0.8888888888888888,\"#fdca26\"],[1.0,\"#f0f921\"]]}],\"surface\":[{\"type\":\"surface\",\"colorbar\":{\"outlinewidth\":0,\"ticks\":\"\"},\"colorscale\":[[0.0,\"#0d0887\"],[0.1111111111111111,\"#46039f\"],[0.2222222222222222,\"#7201a8\"],[0.3333333333333333,\"#9c179e\"],[0.4444444444444444,\"#bd3786\"],[0.5555555555555556,\"#d8576b\"],[0.6666666666666666,\"#ed7953\"],[0.7777777777777778,\"#fb9f3a\"],[0.8888888888888888,\"#fdca26\"],[1.0,\"#f0f921\"]]}],\"mesh3d\":[{\"type\":\"mesh3d\",\"colorbar\":{\"outlinewidth\":0,\"ticks\":\"\"}}],\"scatter\":[{\"fillpattern\":{\"fillmode\":\"overlay\",\"size\":10,\"solidity\":0.2},\"type\":\"scatter\"}],\"parcoords\":[{\"type\":\"parcoords\",\"line\":{\"colorbar\":{\"outlinewidth\":0,\"ticks\":\"\"}}}],\"scatterpolargl\":[{\"type\":\"scatterpolargl\",\"marker\":{\"colorbar\":{\"outlinewidth\":0,\"ticks\":\"\"}}}],\"bar\":[{\"error_x\":{\"color\":\"#2a3f5f\"},\"error_y\":{\"color\":\"#2a3f5f\"},\"marker\":{\"line\":{\"color\":\"#E5ECF6\",\"width\":0.5},\"pattern\":{\"fillmode\":\"overlay\",\"size\":10,\"solidity\":0.2}},\"type\":\"bar\"}],\"scattergeo\":[{\"type\":\"scattergeo\",\"marker\":{\"colorbar\":{\"outlinewidth\":0,\"ticks\":\"\"}}}],\"scatterpolar\":[{\"type\":\"scatterpolar\",\"marker\":{\"colorbar\":{\"outlinewidth\":0,\"ticks\":\"\"}}}],\"histogram\":[{\"marker\":{\"pattern\":{\"fillmode\":\"overlay\",\"size\":10,\"solidity\":0.2}},\"type\":\"histogram\"}],\"scattergl\":[{\"type\":\"scattergl\",\"marker\":{\"colorbar\":{\"outlinewidth\":0,\"ticks\":\"\"}}}],\"scatter3d\":[{\"type\":\"scatter3d\",\"line\":{\"colorbar\":{\"outlinewidth\":0,\"ticks\":\"\"}},\"marker\":{\"colorbar\":{\"outlinewidth\":0,\"ticks\":\"\"}}}],\"scattermapbox\":[{\"type\":\"scattermapbox\",\"marker\":{\"colorbar\":{\"outlinewidth\":0,\"ticks\":\"\"}}}],\"scatterternary\":[{\"type\":\"scatterternary\",\"marker\":{\"colorbar\":{\"outlinewidth\":0,\"ticks\":\"\"}}}],\"scattercarpet\":[{\"type\":\"scattercarpet\",\"marker\":{\"colorbar\":{\"outlinewidth\":0,\"ticks\":\"\"}}}],\"carpet\":[{\"aaxis\":{\"endlinecolor\":\"#2a3f5f\",\"gridcolor\":\"white\",\"linecolor\":\"white\",\"minorgridcolor\":\"white\",\"startlinecolor\":\"#2a3f5f\"},\"baxis\":{\"endlinecolor\":\"#2a3f5f\",\"gridcolor\":\"white\",\"linecolor\":\"white\",\"minorgridcolor\":\"white\",\"startlinecolor\":\"#2a3f5f\"},\"type\":\"carpet\"}],\"table\":[{\"cells\":{\"fill\":{\"color\":\"#EBF0F8\"},\"line\":{\"color\":\"white\"}},\"header\":{\"fill\":{\"color\":\"#C8D4E3\"},\"line\":{\"color\":\"white\"}},\"type\":\"table\"}],\"barpolar\":[{\"marker\":{\"line\":{\"color\":\"#E5ECF6\",\"width\":0.5},\"pattern\":{\"fillmode\":\"overlay\",\"size\":10,\"solidity\":0.2}},\"type\":\"barpolar\"}],\"pie\":[{\"automargin\":true,\"type\":\"pie\"}]},\"layout\":{\"autotypenumbers\":\"strict\",\"colorway\":[\"#636efa\",\"#EF553B\",\"#00cc96\",\"#ab63fa\",\"#FFA15A\",\"#19d3f3\",\"#FF6692\",\"#B6E880\",\"#FF97FF\",\"#FECB52\"],\"font\":{\"color\":\"#2a3f5f\"},\"hovermode\":\"closest\",\"hoverlabel\":{\"align\":\"left\"},\"paper_bgcolor\":\"white\",\"plot_bgcolor\":\"#E5ECF6\",\"polar\":{\"bgcolor\":\"#E5ECF6\",\"angularaxis\":{\"gridcolor\":\"white\",\"linecolor\":\"white\",\"ticks\":\"\"},\"radialaxis\":{\"gridcolor\":\"white\",\"linecolor\":\"white\",\"ticks\":\"\"}},\"ternary\":{\"bgcolor\":\"#E5ECF6\",\"aaxis\":{\"gridcolor\":\"white\",\"linecolor\":\"white\",\"ticks\":\"\"},\"baxis\":{\"gridcolor\":\"white\",\"linecolor\":\"white\",\"ticks\":\"\"},\"caxis\":{\"gridcolor\":\"white\",\"linecolor\":\"white\",\"ticks\":\"\"}},\"coloraxis\":{\"colorbar\":{\"outlinewidth\":0,\"ticks\":\"\"}},\"colorscale\":{\"sequential\":[[0.0,\"#0d0887\"],[0.1111111111111111,\"#46039f\"],[0.2222222222222222,\"#7201a8\"],[0.3333333333333333,\"#9c179e\"],[0.4444444444444444,\"#bd3786\"],[0.5555555555555556,\"#d8576b\"],[0.6666666666666666,\"#ed7953\"],[0.7777777777777778,\"#fb9f3a\"],[0.8888888888888888,\"#fdca26\"],[1.0,\"#f0f921\"]],\"sequentialminus\":[[0.0,\"#0d0887\"],[0.1111111111111111,\"#46039f\"],[0.2222222222222222,\"#7201a8\"],[0.3333333333333333,\"#9c179e\"],[0.4444444444444444,\"#bd3786\"],[0.5555555555555556,\"#d8576b\"],[0.6666666666666666,\"#ed7953\"],[0.7777777777777778,\"#fb9f3a\"],[0.8888888888888888,\"#fdca26\"],[1.0,\"#f0f921\"]],\"diverging\":[[0,\"#8e0152\"],[0.1,\"#c51b7d\"],[0.2,\"#de77ae\"],[0.3,\"#f1b6da\"],[0.4,\"#fde0ef\"],[0.5,\"#f7f7f7\"],[0.6,\"#e6f5d0\"],[0.7,\"#b8e186\"],[0.8,\"#7fbc41\"],[0.9,\"#4d9221\"],[1,\"#276419\"]]},\"xaxis\":{\"gridcolor\":\"white\",\"linecolor\":\"white\",\"ticks\":\"\",\"title\":{\"standoff\":15},\"zerolinecolor\":\"white\",\"automargin\":true,\"zerolinewidth\":2},\"yaxis\":{\"gridcolor\":\"white\",\"linecolor\":\"white\",\"ticks\":\"\",\"title\":{\"standoff\":15},\"zerolinecolor\":\"white\",\"automargin\":true,\"zerolinewidth\":2},\"scene\":{\"xaxis\":{\"backgroundcolor\":\"#E5ECF6\",\"gridcolor\":\"white\",\"linecolor\":\"white\",\"showbackground\":true,\"ticks\":\"\",\"zerolinecolor\":\"white\",\"gridwidth\":2},\"yaxis\":{\"backgroundcolor\":\"#E5ECF6\",\"gridcolor\":\"white\",\"linecolor\":\"white\",\"showbackground\":true,\"ticks\":\"\",\"zerolinecolor\":\"white\",\"gridwidth\":2},\"zaxis\":{\"backgroundcolor\":\"#E5ECF6\",\"gridcolor\":\"white\",\"linecolor\":\"white\",\"showbackground\":true,\"ticks\":\"\",\"zerolinecolor\":\"white\",\"gridwidth\":2}},\"shapedefaults\":{\"line\":{\"color\":\"#2a3f5f\"}},\"annotationdefaults\":{\"arrowcolor\":\"#2a3f5f\",\"arrowhead\":0,\"arrowwidth\":1},\"geo\":{\"bgcolor\":\"white\",\"landcolor\":\"#E5ECF6\",\"subunitcolor\":\"white\",\"showland\":true,\"showlakes\":true,\"lakecolor\":\"white\"},\"title\":{\"x\":0.05},\"mapbox\":{\"style\":\"light\"}}},\"annotations\":[{\"showarrow\":false,\"text\":\"The (100%)\",\"x\":0.0,\"y\":4.0,\"yshift\":10},{\"showarrow\":false,\"text\":\"quick (58.42%)\",\"x\":-3.0,\"y\":3.0,\"yshift\":10},{\"showarrow\":false,\"text\":\"brown (99.93%)\",\"x\":-4.0,\"y\":2.0,\"yshift\":10},{\"showarrow\":false,\"text\":\"The (0.03%)\",\"x\":-3.0,\"y\":2.0,\"yshift\":10},{\"showarrow\":false,\"text\":\"\\n\\n (0.02%)\",\"x\":-2.0,\"y\":2.0,\"yshift\":10},{\"showarrow\":false,\"text\":\"cat (25.93%)\",\"x\":0.0,\"y\":3.0,\"yshift\":10},{\"showarrow\":false,\"text\":\"sat (99.49%)\",\"x\":-1.0,\"y\":2.0,\"yshift\":10},{\"showarrow\":false,\"text\":\"ch (0.18%)\",\"x\":0.0,\"y\":2.0,\"yshift\":10},{\"showarrow\":false,\"text\":\"jump (0.12%)\",\"x\":1.0,\"y\":2.0,\"yshift\":10},{\"showarrow\":false,\"text\":\"sun (6.25%)\",\"x\":3.0,\"y\":3.0,\"yshift\":10},{\"showarrow\":false,\"text\":\"sh (63.13%)\",\"x\":2.0,\"y\":2.0,\"yshift\":10},{\"showarrow\":false,\"text\":\"r (28.02%)\",\"x\":3.0,\"y\":2.0,\"yshift\":10},{\"showarrow\":false,\"text\":\"sets (8.28%)\",\"x\":4.0,\"y\":2.0,\"yshift\":10}]},                        {\"responsive\": true}                    ).then(function(){\n",
              "                            \n",
              "var gd = document.getElementById('1b32561e-cf82-4bd3-84bc-61dc14390c68');\n",
              "var x = new MutationObserver(function (mutations, observer) {{\n",
              "        var display = window.getComputedStyle(gd).display;\n",
              "        if (!display || display === 'none') {{\n",
              "            console.log([gd, 'removed!']);\n",
              "            Plotly.purge(gd);\n",
              "            observer.disconnect();\n",
              "        }}\n",
              "}});\n",
              "\n",
              "// Listen for the removal of the full notebook cells\n",
              "var notebookContainer = gd.closest('#notebook-container');\n",
              "if (notebookContainer) {{\n",
              "    x.observe(notebookContainer, {childList: true});\n",
              "}}\n",
              "\n",
              "// Listen for the clearing of the current output cell\n",
              "var outputEl = gd.closest('.output');\n",
              "if (outputEl) {{\n",
              "    x.observe(outputEl, {childList: true});\n",
              "}}\n",
              "\n",
              "                        })                };                            </script>        </div>\n",
              "</body>\n",
              "</html>"
            ]
          },
          "metadata": {}
        }
      ]
    },
    {
      "cell_type": "code",
      "source": [
        "get_tree_visualization(\"I\")"
      ],
      "metadata": {
        "colab": {
          "base_uri": "https://localhost:8080/",
          "height": 542
        },
        "id": "_-HA_rjxmlmB",
        "outputId": "fea243fa-2369-411a-9fbc-07516105da1d"
      },
      "execution_count": 39,
      "outputs": [
        {
          "output_type": "display_data",
          "data": {
            "text/html": [
              "<html>\n",
              "<head><meta charset=\"utf-8\" /></head>\n",
              "<body>\n",
              "    <div>            <script src=\"https://cdnjs.cloudflare.com/ajax/libs/mathjax/2.7.5/MathJax.js?config=TeX-AMS-MML_SVG\"></script><script type=\"text/javascript\">if (window.MathJax && window.MathJax.Hub && window.MathJax.Hub.Config) {window.MathJax.Hub.Config({SVG: {font: \"STIX-Web\"}});}</script>                <script type=\"text/javascript\">window.PlotlyConfig = {MathJaxConfig: 'local'};</script>\n",
              "        <script charset=\"utf-8\" src=\"https://cdn.plot.ly/plotly-2.24.1.min.js\"></script>                <div id=\"390a854f-810f-4a85-914d-1847af7fd718\" class=\"plotly-graph-div\" style=\"height:525px; width:100%;\"></div>            <script type=\"text/javascript\">                                    window.PLOTLYENV=window.PLOTLYENV || {};                                    if (document.getElementById(\"390a854f-810f-4a85-914d-1847af7fd718\")) {                    Plotly.newPlot(                        \"390a854f-810f-4a85-914d-1847af7fd718\",                        [{\"hoverinfo\":\"none\",\"line\":{\"color\":\"rgb(210,210,210)\",\"width\":1},\"mode\":\"lines\",\"x\":[0.0,-3.0,null,-3.0,-4.0,null,-3.0,-3.0,null,-3.0,-2.0,null,0.0,0.0,null,0.0,-1.0,null,0.0,0.0,null,0.0,1.0,null,0.0,3.0,null,3.0,2.0,null,3.0,3.0,null,3.0,4.0,null],\"y\":[4.0,3.0,null,3.0,2.0,null,3.0,2.0,null,3.0,2.0,null,4.0,3.0,null,3.0,2.0,null,3.0,2.0,null,3.0,2.0,null,4.0,3.0,null,3.0,2.0,null,3.0,2.0,null,3.0,2.0,null],\"type\":\"scatter\"},{\"hoverinfo\":\"text\",\"marker\":{\"color\":\"lightseagreen\",\"line\":{\"color\":\"rgb(50,50,50)\",\"width\":1},\"size\":[120.0,120.0,47.85880785880785,37.26939726939727,17.062937062937063,10,119.99999999999999,10,10,10,88.13852813852813,45.021645021645014,10],\"symbol\":\"circle-dot\"},\"mode\":\"markers\",\"name\":\"\",\"opacity\":0.8,\"text\":[\"I (100%)\",\"am (98.69%)\",\"going (35.93%)\",\"thinking (27.98%)\",\"fe (12.81%)\",\"think (0.72%)\",\"there (90.09%)\",\", (7.06%)\",\"Therefore (1.6%)\",\"under (0.19%)\",\"stand (66.17%)\",\"stood (33.8%)\",\"estimated (0.02%)\"],\"textposition\":\"bottom center\",\"x\":[0.0,-3.0,-4.0,-3.0,-2.0,0.0,-1.0,0.0,1.0,3.0,2.0,3.0,4.0],\"y\":[4.0,3.0,2.0,2.0,2.0,3.0,2.0,2.0,2.0,3.0,2.0,2.0,2.0],\"type\":\"scatter\"}],                        {\"hovermode\":\"closest\",\"margin\":{\"b\":0,\"l\":0,\"r\":0,\"t\":30},\"plot_bgcolor\":\"white\",\"showlegend\":false,\"title\":{\"text\":\"Tree Visualization with Scaled Nodes\"},\"xaxis\":{\"showgrid\":false,\"showticklabels\":false,\"zeroline\":false},\"yaxis\":{\"showgrid\":false,\"showticklabels\":false,\"zeroline\":false},\"template\":{\"data\":{\"histogram2dcontour\":[{\"type\":\"histogram2dcontour\",\"colorbar\":{\"outlinewidth\":0,\"ticks\":\"\"},\"colorscale\":[[0.0,\"#0d0887\"],[0.1111111111111111,\"#46039f\"],[0.2222222222222222,\"#7201a8\"],[0.3333333333333333,\"#9c179e\"],[0.4444444444444444,\"#bd3786\"],[0.5555555555555556,\"#d8576b\"],[0.6666666666666666,\"#ed7953\"],[0.7777777777777778,\"#fb9f3a\"],[0.8888888888888888,\"#fdca26\"],[1.0,\"#f0f921\"]]}],\"choropleth\":[{\"type\":\"choropleth\",\"colorbar\":{\"outlinewidth\":0,\"ticks\":\"\"}}],\"histogram2d\":[{\"type\":\"histogram2d\",\"colorbar\":{\"outlinewidth\":0,\"ticks\":\"\"},\"colorscale\":[[0.0,\"#0d0887\"],[0.1111111111111111,\"#46039f\"],[0.2222222222222222,\"#7201a8\"],[0.3333333333333333,\"#9c179e\"],[0.4444444444444444,\"#bd3786\"],[0.5555555555555556,\"#d8576b\"],[0.6666666666666666,\"#ed7953\"],[0.7777777777777778,\"#fb9f3a\"],[0.8888888888888888,\"#fdca26\"],[1.0,\"#f0f921\"]]}],\"heatmap\":[{\"type\":\"heatmap\",\"colorbar\":{\"outlinewidth\":0,\"ticks\":\"\"},\"colorscale\":[[0.0,\"#0d0887\"],[0.1111111111111111,\"#46039f\"],[0.2222222222222222,\"#7201a8\"],[0.3333333333333333,\"#9c179e\"],[0.4444444444444444,\"#bd3786\"],[0.5555555555555556,\"#d8576b\"],[0.6666666666666666,\"#ed7953\"],[0.7777777777777778,\"#fb9f3a\"],[0.8888888888888888,\"#fdca26\"],[1.0,\"#f0f921\"]]}],\"heatmapgl\":[{\"type\":\"heatmapgl\",\"colorbar\":{\"outlinewidth\":0,\"ticks\":\"\"},\"colorscale\":[[0.0,\"#0d0887\"],[0.1111111111111111,\"#46039f\"],[0.2222222222222222,\"#7201a8\"],[0.3333333333333333,\"#9c179e\"],[0.4444444444444444,\"#bd3786\"],[0.5555555555555556,\"#d8576b\"],[0.6666666666666666,\"#ed7953\"],[0.7777777777777778,\"#fb9f3a\"],[0.8888888888888888,\"#fdca26\"],[1.0,\"#f0f921\"]]}],\"contourcarpet\":[{\"type\":\"contourcarpet\",\"colorbar\":{\"outlinewidth\":0,\"ticks\":\"\"}}],\"contour\":[{\"type\":\"contour\",\"colorbar\":{\"outlinewidth\":0,\"ticks\":\"\"},\"colorscale\":[[0.0,\"#0d0887\"],[0.1111111111111111,\"#46039f\"],[0.2222222222222222,\"#7201a8\"],[0.3333333333333333,\"#9c179e\"],[0.4444444444444444,\"#bd3786\"],[0.5555555555555556,\"#d8576b\"],[0.6666666666666666,\"#ed7953\"],[0.7777777777777778,\"#fb9f3a\"],[0.8888888888888888,\"#fdca26\"],[1.0,\"#f0f921\"]]}],\"surface\":[{\"type\":\"surface\",\"colorbar\":{\"outlinewidth\":0,\"ticks\":\"\"},\"colorscale\":[[0.0,\"#0d0887\"],[0.1111111111111111,\"#46039f\"],[0.2222222222222222,\"#7201a8\"],[0.3333333333333333,\"#9c179e\"],[0.4444444444444444,\"#bd3786\"],[0.5555555555555556,\"#d8576b\"],[0.6666666666666666,\"#ed7953\"],[0.7777777777777778,\"#fb9f3a\"],[0.8888888888888888,\"#fdca26\"],[1.0,\"#f0f921\"]]}],\"mesh3d\":[{\"type\":\"mesh3d\",\"colorbar\":{\"outlinewidth\":0,\"ticks\":\"\"}}],\"scatter\":[{\"fillpattern\":{\"fillmode\":\"overlay\",\"size\":10,\"solidity\":0.2},\"type\":\"scatter\"}],\"parcoords\":[{\"type\":\"parcoords\",\"line\":{\"colorbar\":{\"outlinewidth\":0,\"ticks\":\"\"}}}],\"scatterpolargl\":[{\"type\":\"scatterpolargl\",\"marker\":{\"colorbar\":{\"outlinewidth\":0,\"ticks\":\"\"}}}],\"bar\":[{\"error_x\":{\"color\":\"#2a3f5f\"},\"error_y\":{\"color\":\"#2a3f5f\"},\"marker\":{\"line\":{\"color\":\"#E5ECF6\",\"width\":0.5},\"pattern\":{\"fillmode\":\"overlay\",\"size\":10,\"solidity\":0.2}},\"type\":\"bar\"}],\"scattergeo\":[{\"type\":\"scattergeo\",\"marker\":{\"colorbar\":{\"outlinewidth\":0,\"ticks\":\"\"}}}],\"scatterpolar\":[{\"type\":\"scatterpolar\",\"marker\":{\"colorbar\":{\"outlinewidth\":0,\"ticks\":\"\"}}}],\"histogram\":[{\"marker\":{\"pattern\":{\"fillmode\":\"overlay\",\"size\":10,\"solidity\":0.2}},\"type\":\"histogram\"}],\"scattergl\":[{\"type\":\"scattergl\",\"marker\":{\"colorbar\":{\"outlinewidth\":0,\"ticks\":\"\"}}}],\"scatter3d\":[{\"type\":\"scatter3d\",\"line\":{\"colorbar\":{\"outlinewidth\":0,\"ticks\":\"\"}},\"marker\":{\"colorbar\":{\"outlinewidth\":0,\"ticks\":\"\"}}}],\"scattermapbox\":[{\"type\":\"scattermapbox\",\"marker\":{\"colorbar\":{\"outlinewidth\":0,\"ticks\":\"\"}}}],\"scatterternary\":[{\"type\":\"scatterternary\",\"marker\":{\"colorbar\":{\"outlinewidth\":0,\"ticks\":\"\"}}}],\"scattercarpet\":[{\"type\":\"scattercarpet\",\"marker\":{\"colorbar\":{\"outlinewidth\":0,\"ticks\":\"\"}}}],\"carpet\":[{\"aaxis\":{\"endlinecolor\":\"#2a3f5f\",\"gridcolor\":\"white\",\"linecolor\":\"white\",\"minorgridcolor\":\"white\",\"startlinecolor\":\"#2a3f5f\"},\"baxis\":{\"endlinecolor\":\"#2a3f5f\",\"gridcolor\":\"white\",\"linecolor\":\"white\",\"minorgridcolor\":\"white\",\"startlinecolor\":\"#2a3f5f\"},\"type\":\"carpet\"}],\"table\":[{\"cells\":{\"fill\":{\"color\":\"#EBF0F8\"},\"line\":{\"color\":\"white\"}},\"header\":{\"fill\":{\"color\":\"#C8D4E3\"},\"line\":{\"color\":\"white\"}},\"type\":\"table\"}],\"barpolar\":[{\"marker\":{\"line\":{\"color\":\"#E5ECF6\",\"width\":0.5},\"pattern\":{\"fillmode\":\"overlay\",\"size\":10,\"solidity\":0.2}},\"type\":\"barpolar\"}],\"pie\":[{\"automargin\":true,\"type\":\"pie\"}]},\"layout\":{\"autotypenumbers\":\"strict\",\"colorway\":[\"#636efa\",\"#EF553B\",\"#00cc96\",\"#ab63fa\",\"#FFA15A\",\"#19d3f3\",\"#FF6692\",\"#B6E880\",\"#FF97FF\",\"#FECB52\"],\"font\":{\"color\":\"#2a3f5f\"},\"hovermode\":\"closest\",\"hoverlabel\":{\"align\":\"left\"},\"paper_bgcolor\":\"white\",\"plot_bgcolor\":\"#E5ECF6\",\"polar\":{\"bgcolor\":\"#E5ECF6\",\"angularaxis\":{\"gridcolor\":\"white\",\"linecolor\":\"white\",\"ticks\":\"\"},\"radialaxis\":{\"gridcolor\":\"white\",\"linecolor\":\"white\",\"ticks\":\"\"}},\"ternary\":{\"bgcolor\":\"#E5ECF6\",\"aaxis\":{\"gridcolor\":\"white\",\"linecolor\":\"white\",\"ticks\":\"\"},\"baxis\":{\"gridcolor\":\"white\",\"linecolor\":\"white\",\"ticks\":\"\"},\"caxis\":{\"gridcolor\":\"white\",\"linecolor\":\"white\",\"ticks\":\"\"}},\"coloraxis\":{\"colorbar\":{\"outlinewidth\":0,\"ticks\":\"\"}},\"colorscale\":{\"sequential\":[[0.0,\"#0d0887\"],[0.1111111111111111,\"#46039f\"],[0.2222222222222222,\"#7201a8\"],[0.3333333333333333,\"#9c179e\"],[0.4444444444444444,\"#bd3786\"],[0.5555555555555556,\"#d8576b\"],[0.6666666666666666,\"#ed7953\"],[0.7777777777777778,\"#fb9f3a\"],[0.8888888888888888,\"#fdca26\"],[1.0,\"#f0f921\"]],\"sequentialminus\":[[0.0,\"#0d0887\"],[0.1111111111111111,\"#46039f\"],[0.2222222222222222,\"#7201a8\"],[0.3333333333333333,\"#9c179e\"],[0.4444444444444444,\"#bd3786\"],[0.5555555555555556,\"#d8576b\"],[0.6666666666666666,\"#ed7953\"],[0.7777777777777778,\"#fb9f3a\"],[0.8888888888888888,\"#fdca26\"],[1.0,\"#f0f921\"]],\"diverging\":[[0,\"#8e0152\"],[0.1,\"#c51b7d\"],[0.2,\"#de77ae\"],[0.3,\"#f1b6da\"],[0.4,\"#fde0ef\"],[0.5,\"#f7f7f7\"],[0.6,\"#e6f5d0\"],[0.7,\"#b8e186\"],[0.8,\"#7fbc41\"],[0.9,\"#4d9221\"],[1,\"#276419\"]]},\"xaxis\":{\"gridcolor\":\"white\",\"linecolor\":\"white\",\"ticks\":\"\",\"title\":{\"standoff\":15},\"zerolinecolor\":\"white\",\"automargin\":true,\"zerolinewidth\":2},\"yaxis\":{\"gridcolor\":\"white\",\"linecolor\":\"white\",\"ticks\":\"\",\"title\":{\"standoff\":15},\"zerolinecolor\":\"white\",\"automargin\":true,\"zerolinewidth\":2},\"scene\":{\"xaxis\":{\"backgroundcolor\":\"#E5ECF6\",\"gridcolor\":\"white\",\"linecolor\":\"white\",\"showbackground\":true,\"ticks\":\"\",\"zerolinecolor\":\"white\",\"gridwidth\":2},\"yaxis\":{\"backgroundcolor\":\"#E5ECF6\",\"gridcolor\":\"white\",\"linecolor\":\"white\",\"showbackground\":true,\"ticks\":\"\",\"zerolinecolor\":\"white\",\"gridwidth\":2},\"zaxis\":{\"backgroundcolor\":\"#E5ECF6\",\"gridcolor\":\"white\",\"linecolor\":\"white\",\"showbackground\":true,\"ticks\":\"\",\"zerolinecolor\":\"white\",\"gridwidth\":2}},\"shapedefaults\":{\"line\":{\"color\":\"#2a3f5f\"}},\"annotationdefaults\":{\"arrowcolor\":\"#2a3f5f\",\"arrowhead\":0,\"arrowwidth\":1},\"geo\":{\"bgcolor\":\"white\",\"landcolor\":\"#E5ECF6\",\"subunitcolor\":\"white\",\"showland\":true,\"showlakes\":true,\"lakecolor\":\"white\"},\"title\":{\"x\":0.05},\"mapbox\":{\"style\":\"light\"}}},\"annotations\":[{\"showarrow\":false,\"text\":\"I (100%)\",\"x\":0.0,\"y\":4.0,\"yshift\":10},{\"showarrow\":false,\"text\":\"am (98.69%)\",\"x\":-3.0,\"y\":3.0,\"yshift\":10},{\"showarrow\":false,\"text\":\"going (35.93%)\",\"x\":-4.0,\"y\":2.0,\"yshift\":10},{\"showarrow\":false,\"text\":\"thinking (27.98%)\",\"x\":-3.0,\"y\":2.0,\"yshift\":10},{\"showarrow\":false,\"text\":\"fe (12.81%)\",\"x\":-2.0,\"y\":2.0,\"yshift\":10},{\"showarrow\":false,\"text\":\"think (0.72%)\",\"x\":0.0,\"y\":3.0,\"yshift\":10},{\"showarrow\":false,\"text\":\"there (90.09%)\",\"x\":-1.0,\"y\":2.0,\"yshift\":10},{\"showarrow\":false,\"text\":\", (7.06%)\",\"x\":0.0,\"y\":2.0,\"yshift\":10},{\"showarrow\":false,\"text\":\"Therefore (1.6%)\",\"x\":1.0,\"y\":2.0,\"yshift\":10},{\"showarrow\":false,\"text\":\"under (0.19%)\",\"x\":3.0,\"y\":3.0,\"yshift\":10},{\"showarrow\":false,\"text\":\"stand (66.17%)\",\"x\":2.0,\"y\":2.0,\"yshift\":10},{\"showarrow\":false,\"text\":\"stood (33.8%)\",\"x\":3.0,\"y\":2.0,\"yshift\":10},{\"showarrow\":false,\"text\":\"estimated (0.02%)\",\"x\":4.0,\"y\":2.0,\"yshift\":10}]},                        {\"responsive\": true}                    ).then(function(){\n",
              "                            \n",
              "var gd = document.getElementById('390a854f-810f-4a85-914d-1847af7fd718');\n",
              "var x = new MutationObserver(function (mutations, observer) {{\n",
              "        var display = window.getComputedStyle(gd).display;\n",
              "        if (!display || display === 'none') {{\n",
              "            console.log([gd, 'removed!']);\n",
              "            Plotly.purge(gd);\n",
              "            observer.disconnect();\n",
              "        }}\n",
              "}});\n",
              "\n",
              "// Listen for the removal of the full notebook cells\n",
              "var notebookContainer = gd.closest('#notebook-container');\n",
              "if (notebookContainer) {{\n",
              "    x.observe(notebookContainer, {childList: true});\n",
              "}}\n",
              "\n",
              "// Listen for the clearing of the current output cell\n",
              "var outputEl = gd.closest('.output');\n",
              "if (outputEl) {{\n",
              "    x.observe(outputEl, {childList: true});\n",
              "}}\n",
              "\n",
              "                        })                };                            </script>        </div>\n",
              "</body>\n",
              "</html>"
            ]
          },
          "metadata": {}
        }
      ]
    },
    {
      "cell_type": "code",
      "source": [
        "get_tree_visualization(\"What is \")"
      ],
      "metadata": {
        "colab": {
          "base_uri": "https://localhost:8080/",
          "height": 542
        },
        "id": "JwWkvX21xfm3",
        "outputId": "59724b2e-aa4b-4ee0-c5f2-169db109dcb0"
      },
      "execution_count": 41,
      "outputs": [
        {
          "output_type": "display_data",
          "data": {
            "text/html": [
              "<html>\n",
              "<head><meta charset=\"utf-8\" /></head>\n",
              "<body>\n",
              "    <div>            <script src=\"https://cdnjs.cloudflare.com/ajax/libs/mathjax/2.7.5/MathJax.js?config=TeX-AMS-MML_SVG\"></script><script type=\"text/javascript\">if (window.MathJax && window.MathJax.Hub && window.MathJax.Hub.Config) {window.MathJax.Hub.Config({SVG: {font: \"STIX-Web\"}});}</script>                <script type=\"text/javascript\">window.PlotlyConfig = {MathJaxConfig: 'local'};</script>\n",
              "        <script charset=\"utf-8\" src=\"https://cdn.plot.ly/plotly-2.24.1.min.js\"></script>                <div id=\"151aa64e-e2eb-47b8-b56d-f238e37d6a73\" class=\"plotly-graph-div\" style=\"height:525px; width:100%;\"></div>            <script type=\"text/javascript\">                                    window.PLOTLYENV=window.PLOTLYENV || {};                                    if (document.getElementById(\"151aa64e-e2eb-47b8-b56d-f238e37d6a73\")) {                    Plotly.newPlot(                        \"151aa64e-e2eb-47b8-b56d-f238e37d6a73\",                        [{\"hoverinfo\":\"none\",\"line\":{\"color\":\"rgb(210,210,210)\",\"width\":1},\"mode\":\"lines\",\"x\":[0.0,-3.0,null,-3.0,-4.0,null,-3.0,-3.0,null,-3.0,-2.0,null,0.0,0.0,null,0.0,-1.0,null,0.0,0.0,null,0.0,1.0,null,0.0,3.0,null,3.0,2.0,null,3.0,3.0,null,3.0,4.0,null],\"y\":[4.0,3.0,null,3.0,2.0,null,3.0,2.0,null,3.0,2.0,null,4.0,3.0,null,3.0,2.0,null,3.0,2.0,null,3.0,2.0,null,4.0,3.0,null,3.0,2.0,null,3.0,2.0,null,3.0,2.0,null],\"type\":\"scatter\"},{\"hoverinfo\":\"text\",\"marker\":{\"color\":\"lightseagreen\",\"line\":{\"color\":\"rgb(50,50,50)\",\"width\":1},\"size\":[120.0,120.0,89.95858260469397,36.3506672802577,10,10,120.0,15.738610216290843,10,10,113.08329498389324,21.247123791992635,10],\"symbol\":\"circle-dot\"},\"mode\":\"markers\",\"name\":\"\",\"opacity\":0.8,\"text\":[\"What is  (100%)\",\"the (98.67%)\",\"next (65.16%)\",\"purpose (26.33%)\",\"answer (1.94%)\",\"love (1.2%)\",\"baby (86.92%)\",\"Baby (11.4%)\",\"without (0.76%)\",\"life (0.08%)\",\"but (81.91%)\",\"without (15.39%)\",\"about (0.46%)\"],\"textposition\":\"bottom center\",\"x\":[0.0,-3.0,-4.0,-3.0,-2.0,0.0,-1.0,0.0,1.0,3.0,2.0,3.0,4.0],\"y\":[4.0,3.0,2.0,2.0,2.0,3.0,2.0,2.0,2.0,3.0,2.0,2.0,2.0],\"type\":\"scatter\"}],                        {\"hovermode\":\"closest\",\"margin\":{\"b\":0,\"l\":0,\"r\":0,\"t\":30},\"plot_bgcolor\":\"white\",\"showlegend\":false,\"title\":{\"text\":\"Tree Visualization with Scaled Nodes\"},\"xaxis\":{\"showgrid\":false,\"showticklabels\":false,\"zeroline\":false},\"yaxis\":{\"showgrid\":false,\"showticklabels\":false,\"zeroline\":false},\"template\":{\"data\":{\"histogram2dcontour\":[{\"type\":\"histogram2dcontour\",\"colorbar\":{\"outlinewidth\":0,\"ticks\":\"\"},\"colorscale\":[[0.0,\"#0d0887\"],[0.1111111111111111,\"#46039f\"],[0.2222222222222222,\"#7201a8\"],[0.3333333333333333,\"#9c179e\"],[0.4444444444444444,\"#bd3786\"],[0.5555555555555556,\"#d8576b\"],[0.6666666666666666,\"#ed7953\"],[0.7777777777777778,\"#fb9f3a\"],[0.8888888888888888,\"#fdca26\"],[1.0,\"#f0f921\"]]}],\"choropleth\":[{\"type\":\"choropleth\",\"colorbar\":{\"outlinewidth\":0,\"ticks\":\"\"}}],\"histogram2d\":[{\"type\":\"histogram2d\",\"colorbar\":{\"outlinewidth\":0,\"ticks\":\"\"},\"colorscale\":[[0.0,\"#0d0887\"],[0.1111111111111111,\"#46039f\"],[0.2222222222222222,\"#7201a8\"],[0.3333333333333333,\"#9c179e\"],[0.4444444444444444,\"#bd3786\"],[0.5555555555555556,\"#d8576b\"],[0.6666666666666666,\"#ed7953\"],[0.7777777777777778,\"#fb9f3a\"],[0.8888888888888888,\"#fdca26\"],[1.0,\"#f0f921\"]]}],\"heatmap\":[{\"type\":\"heatmap\",\"colorbar\":{\"outlinewidth\":0,\"ticks\":\"\"},\"colorscale\":[[0.0,\"#0d0887\"],[0.1111111111111111,\"#46039f\"],[0.2222222222222222,\"#7201a8\"],[0.3333333333333333,\"#9c179e\"],[0.4444444444444444,\"#bd3786\"],[0.5555555555555556,\"#d8576b\"],[0.6666666666666666,\"#ed7953\"],[0.7777777777777778,\"#fb9f3a\"],[0.8888888888888888,\"#fdca26\"],[1.0,\"#f0f921\"]]}],\"heatmapgl\":[{\"type\":\"heatmapgl\",\"colorbar\":{\"outlinewidth\":0,\"ticks\":\"\"},\"colorscale\":[[0.0,\"#0d0887\"],[0.1111111111111111,\"#46039f\"],[0.2222222222222222,\"#7201a8\"],[0.3333333333333333,\"#9c179e\"],[0.4444444444444444,\"#bd3786\"],[0.5555555555555556,\"#d8576b\"],[0.6666666666666666,\"#ed7953\"],[0.7777777777777778,\"#fb9f3a\"],[0.8888888888888888,\"#fdca26\"],[1.0,\"#f0f921\"]]}],\"contourcarpet\":[{\"type\":\"contourcarpet\",\"colorbar\":{\"outlinewidth\":0,\"ticks\":\"\"}}],\"contour\":[{\"type\":\"contour\",\"colorbar\":{\"outlinewidth\":0,\"ticks\":\"\"},\"colorscale\":[[0.0,\"#0d0887\"],[0.1111111111111111,\"#46039f\"],[0.2222222222222222,\"#7201a8\"],[0.3333333333333333,\"#9c179e\"],[0.4444444444444444,\"#bd3786\"],[0.5555555555555556,\"#d8576b\"],[0.6666666666666666,\"#ed7953\"],[0.7777777777777778,\"#fb9f3a\"],[0.8888888888888888,\"#fdca26\"],[1.0,\"#f0f921\"]]}],\"surface\":[{\"type\":\"surface\",\"colorbar\":{\"outlinewidth\":0,\"ticks\":\"\"},\"colorscale\":[[0.0,\"#0d0887\"],[0.1111111111111111,\"#46039f\"],[0.2222222222222222,\"#7201a8\"],[0.3333333333333333,\"#9c179e\"],[0.4444444444444444,\"#bd3786\"],[0.5555555555555556,\"#d8576b\"],[0.6666666666666666,\"#ed7953\"],[0.7777777777777778,\"#fb9f3a\"],[0.8888888888888888,\"#fdca26\"],[1.0,\"#f0f921\"]]}],\"mesh3d\":[{\"type\":\"mesh3d\",\"colorbar\":{\"outlinewidth\":0,\"ticks\":\"\"}}],\"scatter\":[{\"fillpattern\":{\"fillmode\":\"overlay\",\"size\":10,\"solidity\":0.2},\"type\":\"scatter\"}],\"parcoords\":[{\"type\":\"parcoords\",\"line\":{\"colorbar\":{\"outlinewidth\":0,\"ticks\":\"\"}}}],\"scatterpolargl\":[{\"type\":\"scatterpolargl\",\"marker\":{\"colorbar\":{\"outlinewidth\":0,\"ticks\":\"\"}}}],\"bar\":[{\"error_x\":{\"color\":\"#2a3f5f\"},\"error_y\":{\"color\":\"#2a3f5f\"},\"marker\":{\"line\":{\"color\":\"#E5ECF6\",\"width\":0.5},\"pattern\":{\"fillmode\":\"overlay\",\"size\":10,\"solidity\":0.2}},\"type\":\"bar\"}],\"scattergeo\":[{\"type\":\"scattergeo\",\"marker\":{\"colorbar\":{\"outlinewidth\":0,\"ticks\":\"\"}}}],\"scatterpolar\":[{\"type\":\"scatterpolar\",\"marker\":{\"colorbar\":{\"outlinewidth\":0,\"ticks\":\"\"}}}],\"histogram\":[{\"marker\":{\"pattern\":{\"fillmode\":\"overlay\",\"size\":10,\"solidity\":0.2}},\"type\":\"histogram\"}],\"scattergl\":[{\"type\":\"scattergl\",\"marker\":{\"colorbar\":{\"outlinewidth\":0,\"ticks\":\"\"}}}],\"scatter3d\":[{\"type\":\"scatter3d\",\"line\":{\"colorbar\":{\"outlinewidth\":0,\"ticks\":\"\"}},\"marker\":{\"colorbar\":{\"outlinewidth\":0,\"ticks\":\"\"}}}],\"scattermapbox\":[{\"type\":\"scattermapbox\",\"marker\":{\"colorbar\":{\"outlinewidth\":0,\"ticks\":\"\"}}}],\"scatterternary\":[{\"type\":\"scatterternary\",\"marker\":{\"colorbar\":{\"outlinewidth\":0,\"ticks\":\"\"}}}],\"scattercarpet\":[{\"type\":\"scattercarpet\",\"marker\":{\"colorbar\":{\"outlinewidth\":0,\"ticks\":\"\"}}}],\"carpet\":[{\"aaxis\":{\"endlinecolor\":\"#2a3f5f\",\"gridcolor\":\"white\",\"linecolor\":\"white\",\"minorgridcolor\":\"white\",\"startlinecolor\":\"#2a3f5f\"},\"baxis\":{\"endlinecolor\":\"#2a3f5f\",\"gridcolor\":\"white\",\"linecolor\":\"white\",\"minorgridcolor\":\"white\",\"startlinecolor\":\"#2a3f5f\"},\"type\":\"carpet\"}],\"table\":[{\"cells\":{\"fill\":{\"color\":\"#EBF0F8\"},\"line\":{\"color\":\"white\"}},\"header\":{\"fill\":{\"color\":\"#C8D4E3\"},\"line\":{\"color\":\"white\"}},\"type\":\"table\"}],\"barpolar\":[{\"marker\":{\"line\":{\"color\":\"#E5ECF6\",\"width\":0.5},\"pattern\":{\"fillmode\":\"overlay\",\"size\":10,\"solidity\":0.2}},\"type\":\"barpolar\"}],\"pie\":[{\"automargin\":true,\"type\":\"pie\"}]},\"layout\":{\"autotypenumbers\":\"strict\",\"colorway\":[\"#636efa\",\"#EF553B\",\"#00cc96\",\"#ab63fa\",\"#FFA15A\",\"#19d3f3\",\"#FF6692\",\"#B6E880\",\"#FF97FF\",\"#FECB52\"],\"font\":{\"color\":\"#2a3f5f\"},\"hovermode\":\"closest\",\"hoverlabel\":{\"align\":\"left\"},\"paper_bgcolor\":\"white\",\"plot_bgcolor\":\"#E5ECF6\",\"polar\":{\"bgcolor\":\"#E5ECF6\",\"angularaxis\":{\"gridcolor\":\"white\",\"linecolor\":\"white\",\"ticks\":\"\"},\"radialaxis\":{\"gridcolor\":\"white\",\"linecolor\":\"white\",\"ticks\":\"\"}},\"ternary\":{\"bgcolor\":\"#E5ECF6\",\"aaxis\":{\"gridcolor\":\"white\",\"linecolor\":\"white\",\"ticks\":\"\"},\"baxis\":{\"gridcolor\":\"white\",\"linecolor\":\"white\",\"ticks\":\"\"},\"caxis\":{\"gridcolor\":\"white\",\"linecolor\":\"white\",\"ticks\":\"\"}},\"coloraxis\":{\"colorbar\":{\"outlinewidth\":0,\"ticks\":\"\"}},\"colorscale\":{\"sequential\":[[0.0,\"#0d0887\"],[0.1111111111111111,\"#46039f\"],[0.2222222222222222,\"#7201a8\"],[0.3333333333333333,\"#9c179e\"],[0.4444444444444444,\"#bd3786\"],[0.5555555555555556,\"#d8576b\"],[0.6666666666666666,\"#ed7953\"],[0.7777777777777778,\"#fb9f3a\"],[0.8888888888888888,\"#fdca26\"],[1.0,\"#f0f921\"]],\"sequentialminus\":[[0.0,\"#0d0887\"],[0.1111111111111111,\"#46039f\"],[0.2222222222222222,\"#7201a8\"],[0.3333333333333333,\"#9c179e\"],[0.4444444444444444,\"#bd3786\"],[0.5555555555555556,\"#d8576b\"],[0.6666666666666666,\"#ed7953\"],[0.7777777777777778,\"#fb9f3a\"],[0.8888888888888888,\"#fdca26\"],[1.0,\"#f0f921\"]],\"diverging\":[[0,\"#8e0152\"],[0.1,\"#c51b7d\"],[0.2,\"#de77ae\"],[0.3,\"#f1b6da\"],[0.4,\"#fde0ef\"],[0.5,\"#f7f7f7\"],[0.6,\"#e6f5d0\"],[0.7,\"#b8e186\"],[0.8,\"#7fbc41\"],[0.9,\"#4d9221\"],[1,\"#276419\"]]},\"xaxis\":{\"gridcolor\":\"white\",\"linecolor\":\"white\",\"ticks\":\"\",\"title\":{\"standoff\":15},\"zerolinecolor\":\"white\",\"automargin\":true,\"zerolinewidth\":2},\"yaxis\":{\"gridcolor\":\"white\",\"linecolor\":\"white\",\"ticks\":\"\",\"title\":{\"standoff\":15},\"zerolinecolor\":\"white\",\"automargin\":true,\"zerolinewidth\":2},\"scene\":{\"xaxis\":{\"backgroundcolor\":\"#E5ECF6\",\"gridcolor\":\"white\",\"linecolor\":\"white\",\"showbackground\":true,\"ticks\":\"\",\"zerolinecolor\":\"white\",\"gridwidth\":2},\"yaxis\":{\"backgroundcolor\":\"#E5ECF6\",\"gridcolor\":\"white\",\"linecolor\":\"white\",\"showbackground\":true,\"ticks\":\"\",\"zerolinecolor\":\"white\",\"gridwidth\":2},\"zaxis\":{\"backgroundcolor\":\"#E5ECF6\",\"gridcolor\":\"white\",\"linecolor\":\"white\",\"showbackground\":true,\"ticks\":\"\",\"zerolinecolor\":\"white\",\"gridwidth\":2}},\"shapedefaults\":{\"line\":{\"color\":\"#2a3f5f\"}},\"annotationdefaults\":{\"arrowcolor\":\"#2a3f5f\",\"arrowhead\":0,\"arrowwidth\":1},\"geo\":{\"bgcolor\":\"white\",\"landcolor\":\"#E5ECF6\",\"subunitcolor\":\"white\",\"showland\":true,\"showlakes\":true,\"lakecolor\":\"white\"},\"title\":{\"x\":0.05},\"mapbox\":{\"style\":\"light\"}}},\"annotations\":[{\"showarrow\":false,\"text\":\"What is  (100%)\",\"x\":0.0,\"y\":4.0,\"yshift\":10},{\"showarrow\":false,\"text\":\"the (98.67%)\",\"x\":-3.0,\"y\":3.0,\"yshift\":10},{\"showarrow\":false,\"text\":\"next (65.16%)\",\"x\":-4.0,\"y\":2.0,\"yshift\":10},{\"showarrow\":false,\"text\":\"purpose (26.33%)\",\"x\":-3.0,\"y\":2.0,\"yshift\":10},{\"showarrow\":false,\"text\":\"answer (1.94%)\",\"x\":-2.0,\"y\":2.0,\"yshift\":10},{\"showarrow\":false,\"text\":\"love (1.2%)\",\"x\":0.0,\"y\":3.0,\"yshift\":10},{\"showarrow\":false,\"text\":\"baby (86.92%)\",\"x\":-1.0,\"y\":2.0,\"yshift\":10},{\"showarrow\":false,\"text\":\"Baby (11.4%)\",\"x\":0.0,\"y\":2.0,\"yshift\":10},{\"showarrow\":false,\"text\":\"without (0.76%)\",\"x\":1.0,\"y\":2.0,\"yshift\":10},{\"showarrow\":false,\"text\":\"life (0.08%)\",\"x\":3.0,\"y\":3.0,\"yshift\":10},{\"showarrow\":false,\"text\":\"but (81.91%)\",\"x\":2.0,\"y\":2.0,\"yshift\":10},{\"showarrow\":false,\"text\":\"without (15.39%)\",\"x\":3.0,\"y\":2.0,\"yshift\":10},{\"showarrow\":false,\"text\":\"about (0.46%)\",\"x\":4.0,\"y\":2.0,\"yshift\":10}]},                        {\"responsive\": true}                    ).then(function(){\n",
              "                            \n",
              "var gd = document.getElementById('151aa64e-e2eb-47b8-b56d-f238e37d6a73');\n",
              "var x = new MutationObserver(function (mutations, observer) {{\n",
              "        var display = window.getComputedStyle(gd).display;\n",
              "        if (!display || display === 'none') {{\n",
              "            console.log([gd, 'removed!']);\n",
              "            Plotly.purge(gd);\n",
              "            observer.disconnect();\n",
              "        }}\n",
              "}});\n",
              "\n",
              "// Listen for the removal of the full notebook cells\n",
              "var notebookContainer = gd.closest('#notebook-container');\n",
              "if (notebookContainer) {{\n",
              "    x.observe(notebookContainer, {childList: true});\n",
              "}}\n",
              "\n",
              "// Listen for the clearing of the current output cell\n",
              "var outputEl = gd.closest('.output');\n",
              "if (outputEl) {{\n",
              "    x.observe(outputEl, {childList: true});\n",
              "}}\n",
              "\n",
              "                        })                };                            </script>        </div>\n",
              "</body>\n",
              "</html>"
            ]
          },
          "metadata": {}
        }
      ]
    },
    {
      "cell_type": "markdown",
      "source": [
        "What is love, baby don't hurt me 🎶"
      ],
      "metadata": {
        "id": "RmAXDAvkxo9q"
      }
    }
  ]
}